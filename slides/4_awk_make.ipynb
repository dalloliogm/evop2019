{
 "cells": [
  {
   "cell_type": "markdown",
   "metadata": {
    "toc": "true"
   },
   "source": [
    "<h1>Table of Contents<span class=\"tocSkip\"></span></h1>\n",
    "<div class=\"toc\"><ul class=\"toc-item\"><li><span><a href=\"#Introduction-to-Unix---awk-and-Makefiles\" data-toc-modified-id=\"Introduction-to-Unix---awk-and-Makefiles-1\"><span class=\"toc-item-num\">1&nbsp;&nbsp;</span>Introduction to Unix - awk and Makefiles</a></span></li><li><span><a href=\"#Working-with-tabular-files:-Awk\" data-toc-modified-id=\"Working-with-tabular-files:-Awk-2\"><span class=\"toc-item-num\">2&nbsp;&nbsp;</span>Working with tabular files: Awk</a></span><ul class=\"toc-item\"><li><span><a href=\"#Example-of-tabular-file:-the-GFF3-format\" data-toc-modified-id=\"Example-of-tabular-file:-the-GFF3-format-2.1\"><span class=\"toc-item-num\">2.1&nbsp;&nbsp;</span>Example of tabular file: the GFF3 format</a></span></li><li><span><a href=\"#Basic-AWK-syntax:-filters\" data-toc-modified-id=\"Basic-AWK-syntax:-filters-2.2\"><span class=\"toc-item-num\">2.2&nbsp;&nbsp;</span>Basic AWK syntax: filters</a></span><ul class=\"toc-item\"><li><span><a href=\"#Exercise\" data-toc-modified-id=\"Exercise-2.2.1\"><span class=\"toc-item-num\">2.2.1&nbsp;&nbsp;</span>Exercise</a></span></li></ul></li><li><span><a href=\"#Awk:-printing-columns-and-doing-operations\" data-toc-modified-id=\"Awk:-printing-columns-and-doing-operations-2.3\"><span class=\"toc-item-num\">2.3&nbsp;&nbsp;</span>Awk: printing columns and doing operations</a></span><ul class=\"toc-item\"><li><span><a href=\"#Exercise-(difficult)\" data-toc-modified-id=\"Exercise-(difficult)-2.3.1\"><span class=\"toc-item-num\">2.3.1&nbsp;&nbsp;</span>Exercise (difficult)</a></span></li></ul></li><li><span><a href=\"#AWK:-searching-by-regular-expressions\" data-toc-modified-id=\"AWK:-searching-by-regular-expressions-2.4\"><span class=\"toc-item-num\">2.4&nbsp;&nbsp;</span>AWK: searching by regular expressions</a></span><ul class=\"toc-item\"><li><span><a href=\"#Last-exercise!\" data-toc-modified-id=\"Last-exercise!-2.4.1\"><span class=\"toc-item-num\">2.4.1&nbsp;&nbsp;</span>Last exercise!</a></span></li></ul></li></ul></li><li><span><a href=\"#Bonus:-Makefiles\" data-toc-modified-id=\"Bonus:-Makefiles-3\"><span class=\"toc-item-num\">3&nbsp;&nbsp;</span>Bonus: Makefiles</a></span><ul class=\"toc-item\"><li><span><a href=\"#Defining-pipelines-with-Makefiles\" data-toc-modified-id=\"Defining-pipelines-with-Makefiles-3.1\"><span class=\"toc-item-num\">3.1&nbsp;&nbsp;</span>Defining pipelines with Makefiles</a></span></li><li><span><a href=\"#How-to-run-Makefile-rules\" data-toc-modified-id=\"How-to-run-Makefile-rules-3.2\"><span class=\"toc-item-num\">3.2&nbsp;&nbsp;</span>How to run Makefile rules</a></span></li><li><span><a href=\"#Dinner-time!!\" data-toc-modified-id=\"Dinner-time!!-3.3\"><span class=\"toc-item-num\">3.3&nbsp;&nbsp;</span>Dinner time!!</a></span></li></ul></li></ul></div>"
   ]
  },
  {
   "cell_type": "code",
   "execution_count": 17,
   "metadata": {},
   "outputs": [],
   "source": [
    "# Configuration - please ignore - this should not appear in the slideshow\n",
    "alias grep='grep --color'\n",
    "cd\n",
    "cd workspace/Peb2019/exercises/"
   ]
  },
  {
   "cell_type": "markdown",
   "metadata": {
    "slideshow": {
     "slide_type": "slide"
    }
   },
   "source": [
    "# Introduction to Unix - awk and Makefiles\n",
    "\n",
    "**<font color='darkgreen'> Welcome to the Programming for Evolutionary Biology workshop!! </font>** \n",
    "\n",
    "Giovanni M. Dall'Olio and Alvaro Perdomo-Sabogal, 03/03/2019. All materials available here: https://github.com/dalloliogm/evop2019/archive/master.zip\n",
    "\n",
    "\n",
    "In this fourth part we will use the **awk** command to excplore the contents of files, and some basic regular expressions.\n",
    "\n",
    "Press space or down key to continue."
   ]
  },
  {
   "cell_type": "markdown",
   "metadata": {
    "slideshow": {
     "slide_type": "slide"
    }
   },
   "source": [
    "# Working with tabular files: Awk\n",
    "\n",
    "\n",
    "The **awk** command allows to search and manipulate tabular files from the command line.\n",
    "\n",
    "Imagine it as the equivalent of Excel/Calc for the command line. It allows to do search on specific columns of a file, to do numerical operations, or to change the order of the columns.\n",
    "\n",
    "The advantage of a command-line tool over graphical software is that the memory footprint is much lower. So you can access and modify large files in a fraction of the time that it would take with Excel."
   ]
  },
  {
   "cell_type": "markdown",
   "metadata": {
    "slideshow": {
     "slide_type": "slide"
    }
   },
   "source": [
    "## Example of tabular file: the GFF3 format\n",
    "\n",
    "The file genes/chr8.gff contains an example of file in the GFF3 format:"
   ]
  },
  {
   "cell_type": "code",
   "execution_count": 18,
   "metadata": {
    "run_control": {
     "frozen": false,
     "read_only": false
    }
   },
   "outputs": [
    {
     "name": "stdout",
     "output_type": "stream",
     "text": [
      "##gff-version 3\n",
      "##source-version rtracklayer 1.34.1\n",
      "##date 2017-02-27\n",
      "##genome-build .\thg19\n",
      "chr8\trtracklayer\tsequence_feature\t18248755\t18258723\t.\t+\t.\tgene_id=10;symbol=NAT2;exerc1=FALSE;ID=10\n",
      "chr8\trtracklayer\tsequence_feature\t100549014\t100549089\t.\t-\t.\tgene_id=100126309;symbol=MIR875;exerc1=FALSE;ID=100126309\n",
      "chr8\trtracklayer\tsequence_feature\t144895127\t144895212\t.\t-\t.\tgene_id=100126338;symbol=MIR937;exerc1=FALSE;ID=100126338\n",
      "chr8\trtracklayer\tsequence_feature\t145619364\t145619445\t.\t-\t.\tgene_id=100126351;symbol=MIR939;exerc1=FALSE;ID=100126351\n",
      "chr8\trtracklayer\tsequence_feature\t91970706\t91997485\t.\t-\t.\tgene_id=100127983;symbol=C8orf88;exerc1=FALSE;ID=100127983\n",
      "chr8\trtracklayer\tsequence_feature\t74332309\t74353753\t.\t+\t.\tgene_id=100128126;symbol=STAU2-AS1;exerc1=FALSE;ID=100128126\n"
     ]
    }
   ],
   "source": [
    "head genes/chr8.gff"
   ]
  },
  {
   "cell_type": "markdown",
   "metadata": {},
   "source": [
    "As you can see it is a tab-separated file, which we could easily read in Excel or Calc.\n",
    "\n",
    "The **GFF** (General Feature Format) format specifications are defined [here](https://genome.ucsc.edu/FAQ/FAQformat.html#format3), but in short:\n",
    "\n",
    "- the **col1**, **col4** and **col5** contain the chromosome name and genomic coordinates (start and end),\n",
    "- the **col2** describes the tool or resource that generated the annotation,\n",
    "- the **col3** describe the type of feature (e.g. gene, transcript, exon, TF binding site, Histone Acetylation mark, etc...\n",
    "- the **col9** column contains several fields, separated by a semicolon\n"
   ]
  },
  {
   "cell_type": "markdown",
   "metadata": {
    "slideshow": {
     "slide_type": "subslide"
    }
   },
   "source": [
    "## Basic AWK syntax: filters\n",
    "\n",
    "The basic AWK syntax is the following:\n",
    "\n",
    "\n",
    "** awk 'filters {print statements}' filename**\n",
    "\n",
    "Awk is quite smart at recognizing the field separator, and by default assumes they are separated by tabs.\n",
    "\n",
    "Each column of the file can be referred to with the dollar sign followed by the number of column.\n",
    "\n",
    "For example $2 refers to the second column, and so on.\n",
    "\n",
    "The following code filters all the lines belonging to chromosome 8, between the coordinates 100000 and 200000:"
   ]
  },
  {
   "cell_type": "code",
   "execution_count": 20,
   "metadata": {
    "run_control": {
     "frozen": false,
     "read_only": false
    },
    "slideshow": {
     "slide_type": "-"
    }
   },
   "outputs": [
    {
     "name": "stdout",
     "output_type": "stream",
     "text": [
      "chr8\trtracklayer\tsequence_feature\t182200\t197339\t.\t+\t.\tgene_id=169270;symbol=ZNF596;exerc1=FALSE;ID=169270\n",
      "chr8\trtracklayer\tsequence_feature\t116086\t117024\t.\t-\t.\tgene_id=441308;symbol=OR4F21;exerc1=FALSE;ID=441308\n",
      "chr8\trtracklayer\tsequence_feature\t158345\t182318\t.\t-\t.\tgene_id=644128;symbol=RPL23AP53;exerc1=FALSE;ID=644128\n"
     ]
    }
   ],
   "source": [
    "# This prints all the lines on chromosome 8 and with chromosomal position between 10000 and 20000\n",
    "# Don't be scared by this long statement, we will explain it step by step\n",
    "# \n",
    "awk '$1==\"chr8\" && $4>100000 && $5<200000 ' genes/chr8.gff"
   ]
  },
  {
   "cell_type": "markdown",
   "metadata": {
    "slideshow": {
     "slide_type": "subslide"
    }
   },
   "source": [
    "### Exercise\n",
    "\n",
    "Can you print all the lines between 5000000 and 10000000 ?"
   ]
  },
  {
   "cell_type": "code",
   "execution_count": 21,
   "metadata": {
    "run_control": {
     "frozen": false,
     "read_only": false
    },
    "slideshow": {
     "slide_type": "fragment"
    }
   },
   "outputs": [
    {
     "name": "stdout",
     "output_type": "stream",
     "text": [
      "chr8\trtracklayer\tsequence_feature\t7143733\t7212876\t.\t-\t.\tgene_id=100128890;symbol=FAM66B;exerc1=TRUE;ID=100128890\n",
      "chr8\trtracklayer\tsequence_feature\t7215498\t7220490\t.\t-\t.\tgene_id=100131980;symbol=ZNF705G;exerc1=TRUE;ID=100131980\n",
      "chr8\trtracklayer\tsequence_feature\t7812535\t7866277\t.\t+\t.\tgene_id=100132103;symbol=FAM66E;exerc1=TRUE;ID=100132103\n",
      "chr8\trtracklayer\tsequence_feature\t7783859\t7809935\t.\t+\t.\tgene_id=100132396;symbol=ZNF705B;exerc1=TRUE;ID=100132396\n",
      "chr8\trtracklayer\tsequence_feature\t6261077\t6264069\t.\t-\t.\tgene_id=100287015;symbol=LOC100287015;exerc1=TRUE;ID=100287015\n",
      "chr8\trtracklayer\tsequence_feature\t7272385\t7274354\t.\t-\t.\tgene_id=100289462;symbol=DEFB4B;exerc1=TRUE;ID=100289462\n",
      "chr8\trtracklayer\tsequence_feature\t7946463\t7946611\t.\t-\t.\tgene_id=100302186;symbol=MIR548I3;exerc1=TRUE;ID=100302186\n",
      "chr8\trtracklayer\tsequence_feature\t6602685\t6602765\t.\t+\t.\tgene_id=100616348;symbol=MIR4659A;exerc1=TRUE;ID=100616348\n",
      "chr8\trtracklayer\tsequence_feature\t8905955\t8906028\t.\t+\t.\tgene_id=100616350;symbol=MIR4660;exerc1=TRUE;ID=100616350\n",
      "chr8\trtracklayer\tsequence_feature\t6602689\t6602761\t.\t-\t.\tgene_id=100616372;symbol=MIR4659B;exerc1=TRUE;ID=100616372\n",
      "chr8\trtracklayer\tsequence_feature\t6693076\t6699975\t.\t+\t.\tgene_id=100652791;symbol=GS1-24F4.2;exerc1=TRUE;ID=100652791\n",
      "chr8\trtracklayer\tsequence_feature\t8559666\t8561617\t.\t+\t.\tgene_id=137075;symbol=CLDN23;exerc1=TRUE;ID=137075\n",
      "chr8\trtracklayer\tsequence_feature\t9182561\t9192590\t.\t+\t.\tgene_id=157273;symbol=LOC157273;exerc1=TRUE;ID=157273\n",
      "chr8\trtracklayer\tsequence_feature\t8175258\t8239257\t.\t-\t.\tgene_id=157285;symbol=SGK223;exerc1=TRUE;ID=157285\n",
      "chr8\trtracklayer\tsequence_feature\t9757574\t9760839\t.\t-\t.\tgene_id=157627;symbol=LINC00599;exerc1=TRUE;ID=157627\n",
      "chr8\trtracklayer\tsequence_feature\t6835171\t6856724\t.\t-\t.\tgene_id=1667;symbol=DEFA1;exerc1=TRUE;ID=1667\n",
      "chr8\trtracklayer\tsequence_feature\t6793345\t6795786\t.\t-\t.\tgene_id=1669;symbol=DEFA4;exerc1=TRUE;ID=1669\n",
      "chr8\trtracklayer\tsequence_feature\t6912829\t6914259\t.\t-\t.\tgene_id=1670;symbol=DEFA5;exerc1=TRUE;ID=1670\n",
      "chr8\trtracklayer\tsequence_feature\t6782216\t6783598\t.\t-\t.\tgene_id=1671;symbol=DEFA6;exerc1=TRUE;ID=1671\n",
      "chr8\trtracklayer\tsequence_feature\t6728097\t6735529\t.\t-\t.\tgene_id=1672;symbol=DEFB1;exerc1=TRUE;ID=1672\n",
      "chr8\trtracklayer\tsequence_feature\t7752199\t7754237\t.\t+\t.\tgene_id=1673;symbol=DEFB4A;exerc1=TRUE;ID=1673\n",
      "chr8\trtracklayer\tsequence_feature\t6844700\t6866346\t.\t-\t.\tgene_id=170949;symbol=DEFT1P;exerc1=TRUE;ID=170949\n",
      "chr8\trtracklayer\tsequence_feature\t7353368\t7366833\t.\t+\t.\tgene_id=245910;symbol=DEFB107A;exerc1=TRUE;ID=245910\n",
      "chr8\trtracklayer\tsequence_feature\t6357175\t6420784\t.\t-\t.\tgene_id=285;symbol=ANGPT2;exerc1=TRUE;ID=285\n",
      "chr8\trtracklayer\tsequence_feature\t8086092\t8102387\t.\t+\t.\tgene_id=286042;symbol=FAM86B3P;exerc1=TRUE;ID=286042\n",
      "chr8\trtracklayer\tsequence_feature\t6666041\t6693166\t.\t-\t.\tgene_id=389610;symbol=XKR5;exerc1=TRUE;ID=389610\n",
      "chr8\trtracklayer\tsequence_feature\t7829183\t7830775\t.\t-\t.\tgene_id=392188;symbol=USP17L8;exerc1=TRUE;ID=392188\n",
      "chr8\trtracklayer\tsequence_feature\t7189909\t7191501\t.\t+\t.\tgene_id=401447;symbol=USP17L1;exerc1=TRUE;ID=401447\n",
      "chr8\trtracklayer\tsequence_feature\t9760898\t9760982\t.\t-\t.\tgene_id=406907;symbol=MIR124-1;exerc1=TRUE;ID=406907\n",
      "chr8\trtracklayer\tsequence_feature\t7413660\t7431920\t.\t-\t.\tgene_id=441317;symbol=FAM90A7P;exerc1=TRUE;ID=441317\n",
      "chr8\trtracklayer\tsequence_feature\t7627106\t7628835\t.\t+\t.\tgene_id=441328;symbol=FAM90A10P;exerc1=TRUE;ID=441328\n",
      "chr8\trtracklayer\tsequence_feature\t6808248\t6809121\t.\t-\t.\tgene_id=449491;symbol=DEFA8P;exerc1=TRUE;ID=449491\n",
      "chr8\trtracklayer\tsequence_feature\t6816811\t6817683\t.\t-\t.\tgene_id=449492;symbol=DEFA9P;exerc1=TRUE;ID=449492\n",
      "chr8\trtracklayer\tsequence_feature\t6825663\t6826635\t.\t-\t.\tgene_id=449493;symbol=DEFA10P;exerc1=TRUE;ID=449493\n",
      "chr8\trtracklayer\tsequence_feature\t7669242\t7673238\t.\t-\t.\tgene_id=503614;symbol=DEFB107B;exerc1=TRUE;ID=503614\n",
      "chr8\trtracklayer\tsequence_feature\t6565878\t6619021\t.\t+\t.\tgene_id=55326;symbol=AGPAT5;exerc1=TRUE;ID=55326\n",
      "chr8\trtracklayer\tsequence_feature\t7194637\t7196229\t.\t+\t.\tgene_id=645402;symbol=USP17L4;exerc1=TRUE;ID=645402\n",
      "chr8\trtracklayer\tsequence_feature\t7833915\t7835507\t.\t-\t.\tgene_id=645836;symbol=USP17L3;exerc1=TRUE;ID=645836\n",
      "chr8\trtracklayer\tsequence_feature\t7705402\t7721319\t.\t+\t.\tgene_id=653423;symbol=SPAG11A;exerc1=TRUE;ID=653423\n",
      "chr8\trtracklayer\tsequence_feature\t9599182\t9599278\t.\t+\t.\tgene_id=693182;symbol=MIR597;exerc1=TRUE;ID=693182\n",
      "chr8\trtracklayer\tsequence_feature\t6886123\t6887011\t.\t-\t.\tgene_id=724068;symbol=DEFA11P;exerc1=TRUE;ID=724068\n",
      "chr8\trtracklayer\tsequence_feature\t6873391\t6875823\t.\t-\t.\tgene_id=728358;symbol=DEFA1B;exerc1=TRUE;ID=728358\n",
      "chr8\trtracklayer\tsequence_feature\t6264113\t6501140\t.\t+\t.\tgene_id=79648;symbol=MCPH1;exerc1=TRUE;ID=79648\n",
      "chr8\trtracklayer\tsequence_feature\t8993764\t9009152\t.\t-\t.\tgene_id=79660;symbol=PPP1R3B;exerc1=TRUE;ID=79660\n",
      "chr8\trtracklayer\tsequence_feature\t9413445\t9639856\t.\t+\t.\tgene_id=8658;symbol=TNKS;exerc1=TRUE;ID=8658\n",
      "chr8\trtracklayer\tsequence_feature\t8860314\t8890849\t.\t+\t.\tgene_id=90459;symbol=ERI1;exerc1=TRUE;ID=90459\n",
      "chr8\trtracklayer\tsequence_feature\t8641999\t8751131\t.\t-\t.\tgene_id=9258;symbol=MFHAS1;exerc1=TRUE;ID=9258\n"
     ]
    }
   ],
   "source": [
    "awk '$4 > 5000000 && $5 < 10000000 ' genes/chr8.gff\n"
   ]
  },
  {
   "cell_type": "markdown",
   "metadata": {
    "slideshow": {
     "slide_type": "slide"
    }
   },
   "source": [
    "## Awk: printing columns and doing operations\n",
    "\n",
    "Awk also allows to print only specific columns, and do algebraic operations on them.\n",
    "\n",
    "Remember that each column can be referred as \\$1, \\$2, \\$3, etc...\n",
    "\n",
    "For example the following code prints the first column, and the sum of the fourth and third. We can pipe the output to head or less, to make it easier to visualize:"
   ]
  },
  {
   "cell_type": "code",
   "execution_count": 8,
   "metadata": {
    "run_control": {
     "frozen": false,
     "read_only": false
    }
   },
   "outputs": [
    {
     "name": "stdout",
     "output_type": "stream",
     "text": [
      "##gff-version 0\n",
      "##source-version 0\n",
      "##date 0\n",
      "##genome-build 0\n",
      "chr8 9968\n",
      "chr8 75\n",
      "chr8 85\n",
      "chr8 81\n",
      "chr8 26779\n",
      "chr8 21444\n"
     ]
    }
   ],
   "source": [
    "awk '{print $1, $5-$4}' genes/chr8.gff | head\n"
   ]
  },
  {
   "cell_type": "markdown",
   "metadata": {
    "slideshow": {
     "slide_type": "fragment"
    }
   },
   "source": [
    "Notice how this also prints the headers of the file. We can exclude these by adding a grep condition:"
   ]
  },
  {
   "cell_type": "code",
   "execution_count": 9,
   "metadata": {
    "run_control": {
     "frozen": false,
     "read_only": false
    }
   },
   "outputs": [
    {
     "name": "stdout",
     "output_type": "stream",
     "text": [
      "chr8 9968 gene_id=10;symbol=NAT2;exerc1=FALSE;ID=10\n",
      "chr8 75 gene_id=100126309;symbol=MIR875;exerc1=FALSE;ID=100126309\n",
      "chr8 85 gene_id=100126338;symbol=MIR937;exerc1=FALSE;ID=100126338\n",
      "chr8 81 gene_id=100126351;symbol=MIR939;exerc1=FALSE;ID=100126351\n",
      "chr8 26779 gene_id=100127983;symbol=C8orf88;exerc1=FALSE;ID=100127983\n",
      "chr8 21444 gene_id=100128126;symbol=STAU2-AS1;exerc1=FALSE;ID=100128126\n",
      "chr8 12197 gene_id=100128338;symbol=FAM83H-AS1;exerc1=FALSE;ID=100128338\n",
      "chr8 1835 gene_id=100128627;symbol=CDC42P3;exerc1=FALSE;ID=100128627\n",
      "chr8 3282 gene_id=100128750;symbol=RBPMS-AS1;exerc1=FALSE;ID=100128750\n",
      "chr8 69143 gene_id=100128890;symbol=FAM66B;exerc1=TRUE;ID=100128890\n"
     ]
    }
   ],
   "source": [
    "awk '{print $1, $5-$4, $9}' genes/chr8.gff | grep -v '^#' |  head"
   ]
  },
  {
   "cell_type": "markdown",
   "metadata": {
    "slideshow": {
     "slide_type": "subslide"
    }
   },
   "source": [
    "### Exercise (difficult)\n",
    "\n",
    "Starting from the previous command, can you extract the gene symbol into a separate column?\n",
    "\n",
    "Hints: pipe an additional awk statement after the first. Use the -F option to specify a different field separator."
   ]
  },
  {
   "cell_type": "code",
   "execution_count": 10,
   "metadata": {
    "run_control": {
     "frozen": false,
     "read_only": false
    }
   },
   "outputs": [
    {
     "name": "stdout",
     "output_type": "stream",
     "text": [
      "chr8 9968 gene_id=10 symbol=NAT2\n",
      "chr8 75 gene_id=100126309 symbol=MIR875\n",
      "chr8 85 gene_id=100126338 symbol=MIR937\n",
      "chr8 81 gene_id=100126351 symbol=MIR939\n",
      "chr8 26779 gene_id=100127983 symbol=C8orf88\n",
      "chr8 21444 gene_id=100128126 symbol=STAU2-AS1\n",
      "chr8 12197 gene_id=100128338 symbol=FAM83H-AS1\n",
      "chr8 1835 gene_id=100128627 symbol=CDC42P3\n",
      "chr8 3282 gene_id=100128750 symbol=RBPMS-AS1\n",
      "chr8 69143 gene_id=100128890 symbol=FAM66B\n"
     ]
    }
   ],
   "source": [
    "awk '{print $1, $5-$4, $9}' genes/chr8.gff | grep -v '^#' | awk -F';' '{print $1, $2}' | head"
   ]
  },
  {
   "cell_type": "markdown",
   "metadata": {
    "slideshow": {
     "slide_type": "slide"
    }
   },
   "source": [
    "## AWK: searching by regular expressions\n",
    "\n",
    "Awk can also be used to search by regular expression.\n",
    "\n",
    "For example, the following code will print all the lines in which the symbol starts with \"MIR\":"
   ]
  },
  {
   "cell_type": "code",
   "execution_count": 11,
   "metadata": {
    "run_control": {
     "frozen": false,
     "read_only": false
    },
    "slideshow": {
     "slide_type": "-"
    }
   },
   "outputs": [
    {
     "name": "stdout",
     "output_type": "stream",
     "text": [
      "chr8\trtracklayer\tsequence_feature\t100549014\t100549089\t.\t-\t.\tgene_id=100126309;symbol=MIR875;exerc1=FALSE;ID=100126309\n",
      "chr8\trtracklayer\tsequence_feature\t144895127\t144895212\t.\t-\t.\tgene_id=100126338;symbol=MIR937;exerc1=FALSE;ID=100126338\n",
      "chr8\trtracklayer\tsequence_feature\t145619364\t145619445\t.\t-\t.\tgene_id=100126351;symbol=MIR939;exerc1=FALSE;ID=100126351\n",
      "chr8\trtracklayer\tsequence_feature\t65285775\t65295842\t.\t+\t.\tgene_id=100130155;symbol=MIR124-2HG;exerc1=FALSE;ID=100130155\n",
      "chr8\trtracklayer\tsequence_feature\t128972879\t128972941\t.\t+\t.\tgene_id=100302161;symbol=MIR1205;exerc1=FALSE;ID=100302161\n",
      "chr8\trtracklayer\tsequence_feature\t10682883\t10682953\t.\t-\t.\tgene_id=100302166;symbol=MIR1322;exerc1=FALSE;ID=100302166\n",
      "chr8\trtracklayer\tsequence_feature\t129021144\t129021202\t.\t+\t.\tgene_id=100302170;symbol=MIR1206;exerc1=FALSE;ID=100302170\n",
      "chr8\trtracklayer\tsequence_feature\t129061398\t129061484\t.\t+\t.\tgene_id=100302175;symbol=MIR1207;exerc1=FALSE;ID=100302175\n",
      "chr8\trtracklayer\tsequence_feature\t128808208\t128808274\t.\t+\t.\tgene_id=100302185;symbol=MIR1204;exerc1=FALSE;ID=100302185\n",
      "chr8\trtracklayer\tsequence_feature\t7946463\t7946611\t.\t-\t.\tgene_id=100302186;symbol=MIR548I3;exerc1=TRUE;ID=100302186\n",
      "chr8\trtracklayer\tsequence_feature\t145625476\t145625559\t.\t-\t.\tgene_id=100302196;symbol=MIR1234;exerc1=FALSE;ID=100302196\n",
      "chr8\trtracklayer\tsequence_feature\t113655722\t113655812\t.\t+\t.\tgene_id=100302225;symbol=MIR2053;exerc1=FALSE;ID=100302225\n",
      "chr8\trtracklayer\tsequence_feature\t75617928\t75617982\t.\t+\t.\tgene_id=100302260;symbol=MIR2052;exerc1=FALSE;ID=100302260\n",
      "chr8\trtracklayer\tsequence_feature\t129162362\t129162434\t.\t+\t.\tgene_id=100302281;symbol=MIR1208;exerc1=FALSE;ID=100302281\n",
      "chr8\trtracklayer\tsequence_feature\t27743556\t27743633\t.\t-\t.\tgene_id=100422828;symbol=MIR4287;exerc1=FALSE;ID=100422828\n",
      "chr8\trtracklayer\tsequence_feature\t29814788\t29814864\t.\t-\t.\tgene_id=100422876;symbol=MIR3148;exerc1=FALSE;ID=100422876\n",
      "chr8\trtracklayer\tsequence_feature\t28362633\t28362699\t.\t-\t.\tgene_id=100422903;symbol=MIR4288;exerc1=FALSE;ID=100422903\n",
      "chr8\trtracklayer\tsequence_feature\t96085142\t96085221\t.\t+\t.\tgene_id=100422964;symbol=MIR3150A;exerc1=FALSE;ID=100422964\n",
      "chr8\trtracklayer\tsequence_feature\t104166842\t104166917\t.\t+\t.\tgene_id=100422992;symbol=MIR3151;exerc1=FALSE;ID=100422992\n",
      "chr8\trtracklayer\tsequence_feature\t12584746\t12584808\t.\t+\t.\tgene_id=100500838;symbol=MIR3926-2;exerc1=FALSE;ID=100500838\n",
      "chr8\trtracklayer\tsequence_feature\t27559194\t27559276\t.\t+\t.\tgene_id=100500858;symbol=MIR3622A;exerc1=FALSE;ID=100500858\n",
      "chr8\trtracklayer\tsequence_feature\t12584741\t12584813\t.\t-\t.\tgene_id=100500870;symbol=MIR3926-1;exerc1=FALSE;ID=100500870\n",
      "chr8\trtracklayer\tsequence_feature\t27559190\t27559284\t.\t-\t.\tgene_id=100500871;symbol=MIR3622B;exerc1=FALSE;ID=100500871\n",
      "chr8\trtracklayer\tsequence_feature\t96085139\t96085224\t.\t-\t.\tgene_id=100500907;symbol=MIR3150B;exerc1=FALSE;ID=100500907\n",
      "chr8\trtracklayer\tsequence_feature\t117886967\t117887039\t.\t-\t.\tgene_id=100500914;symbol=MIR3610;exerc1=FALSE;ID=100500914\n",
      "chr8\trtracklayer\tsequence_feature\t42751340\t42751418\t.\t-\t.\tgene_id=100616115;symbol=MIR4469;exerc1=FALSE;ID=100616115\n",
      "chr8\trtracklayer\tsequence_feature\t94928250\t94928347\t.\t-\t.\tgene_id=100616169;symbol=MIR378D2;exerc1=FALSE;ID=100616169\n",
      "chr8\trtracklayer\tsequence_feature\t29920258\t30108213\t.\t-\t.\tgene_id=100616190;symbol=MIR548O2;exerc1=FALSE;ID=100616190\n",
      "chr8\trtracklayer\tsequence_feature\t92217713\t92217786\t.\t+\t.\tgene_id=100616245;symbol=MIR4661;exerc1=FALSE;ID=100616245\n",
      "chr8\trtracklayer\tsequence_feature\t124228028\t124228103\t.\t-\t.\tgene_id=100616260;symbol=MIR4663;exerc1=FALSE;ID=100616260\n",
      "chr8\trtracklayer\tsequence_feature\t143257700\t143257779\t.\t+\t.\tgene_id=100616268;symbol=MIR4472-1;exerc1=FALSE;ID=100616268\n",
      "chr8\trtracklayer\tsequence_feature\t144815253\t144815323\t.\t-\t.\tgene_id=100616318;symbol=MIR4664;exerc1=FALSE;ID=100616318\n",
      "chr8\trtracklayer\tsequence_feature\t6602685\t6602765\t.\t+\t.\tgene_id=100616348;symbol=MIR4659A;exerc1=TRUE;ID=100616348\n",
      "chr8\trtracklayer\tsequence_feature\t8905955\t8906028\t.\t+\t.\tgene_id=100616350;symbol=MIR4660;exerc1=TRUE;ID=100616350\n",
      "chr8\trtracklayer\tsequence_feature\t6602689\t6602761\t.\t-\t.\tgene_id=100616372;symbol=MIR4659B;exerc1=TRUE;ID=100616372\n",
      "chr8\trtracklayer\tsequence_feature\t101394991\t101395073\t.\t+\t.\tgene_id=100616451;symbol=MIR4471;exerc1=FALSE;ID=100616451\n",
      "chr8\trtracklayer\tsequence_feature\t62627347\t62627418\t.\t+\t.\tgene_id=100616484;symbol=MIR4470;exerc1=FALSE;ID=100616484\n",
      "chr8\trtracklayer\tsequence_feature\t103137660\t103137743\t.\t+\t.\tgene_id=100847001;symbol=MIR5680;exerc1=FALSE;ID=100847001\n",
      "chr8\trtracklayer\tsequence_feature\t131020580\t131020699\t.\t-\t.\tgene_id=100847051;symbol=MIR5194;exerc1=FALSE;ID=100847051\n",
      "chr8\trtracklayer\tsequence_feature\t81153624\t81153708\t.\t+\t.\tgene_id=100847056;symbol=MIR5708;exerc1=FALSE;ID=100847056\n",
      "chr8\trtracklayer\tsequence_feature\t75460778\t75460852\t.\t+\t.\tgene_id=100847058;symbol=MIR5681A;exerc1=FALSE;ID=100847058\n",
      "chr8\trtracklayer\tsequence_feature\t75460785\t75460844\t.\t-\t.\tgene_id=100847091;symbol=MIR5681B;exerc1=FALSE;ID=100847091\n",
      "chr8\trtracklayer\tsequence_feature\t9760898\t9760982\t.\t-\t.\tgene_id=406907;symbol=MIR124-1;exerc1=TRUE;ID=406907\n",
      "chr8\trtracklayer\tsequence_feature\t65291706\t65291814\t.\t+\t.\tgene_id=406908;symbol=MIR124-2;exerc1=FALSE;ID=406908\n",
      "chr8\trtracklayer\tsequence_feature\t135812763\t135812850\t.\t-\t.\tgene_id=407030;symbol=MIR30B;exerc1=FALSE;ID=407030\n",
      "chr8\trtracklayer\tsequence_feature\t135817119\t135817188\t.\t-\t.\tgene_id=407033;symbol=MIR30D;exerc1=FALSE;ID=407033\n",
      "chr8\trtracklayer\tsequence_feature\t22102475\t22102556\t.\t-\t.\tgene_id=407037;symbol=MIR320A;exerc1=FALSE;ID=407037\n",
      "chr8\trtracklayer\tsequence_feature\t75512101\t75670587\t.\t+\t.\tgene_id=441355;symbol=MIR2052HG;exerc1=FALSE;ID=441355\n",
      "chr8\trtracklayer\tsequence_feature\t14710947\t14711019\t.\t-\t.\tgene_id=494332;symbol=MIR383;exerc1=FALSE;ID=494332\n",
      "chr8\trtracklayer\tsequence_feature\t41517959\t41518026\t.\t-\t.\tgene_id=619554;symbol=MIR486-1;exerc1=FALSE;ID=619554\n",
      "chr8\trtracklayer\tsequence_feature\t1765397\t1765473\t.\t+\t.\tgene_id=693181;symbol=MIR596;exerc1=FALSE;ID=693181\n",
      "chr8\trtracklayer\tsequence_feature\t9599182\t9599278\t.\t+\t.\tgene_id=693182;symbol=MIR597;exerc1=TRUE;ID=693182\n",
      "chr8\trtracklayer\tsequence_feature\t10892716\t10892812\t.\t-\t.\tgene_id=693183;symbol=MIR598;exerc1=FALSE;ID=693183\n",
      "chr8\trtracklayer\tsequence_feature\t100548864\t100548958\t.\t-\t.\tgene_id=693184;symbol=MIR599;exerc1=FALSE;ID=693184\n",
      "chr8\trtracklayer\tsequence_feature\t145019359\t145019447\t.\t-\t.\tgene_id=724031;symbol=MIR661;exerc1=FALSE;ID=724031\n"
     ]
    }
   ],
   "source": [
    "awk '$9 ~ /symbol=MIR/ {print $0}' genes/chr8.gff "
   ]
  },
  {
   "cell_type": "markdown",
   "metadata": {
    "slideshow": {
     "slide_type": "subslide"
    }
   },
   "source": [
    "### Last exercise!\n",
    "\n",
    "Calculate the lenght of the gene POU5F1B.\n",
    "\n",
    "Find the Gene whose gene_id is equal to that number."
   ]
  },
  {
   "cell_type": "code",
   "execution_count": 12,
   "metadata": {
    "run_control": {
     "frozen": false,
     "read_only": false
    },
    "slideshow": {
     "slide_type": "fragment"
    }
   },
   "outputs": [
    {
     "name": "stdout",
     "output_type": "stream",
     "text": [
      "1584\n"
     ]
    }
   ],
   "source": [
    "awk '$9 ~ /POU5F1B/ {print $5-$4}' genes/chr8.gff \n"
   ]
  },
  {
   "cell_type": "code",
   "execution_count": 13,
   "metadata": {
    "run_control": {
     "frozen": false,
     "read_only": false
    },
    "slideshow": {
     "slide_type": "fragment"
    }
   },
   "outputs": [
    {
     "name": "stdout",
     "output_type": "stream",
     "text": [
      "chr8\tWell_done\tGreat_job\t143953773\t143961236\t.\t-\t.\tgene_id=1584;symbol=CYP11B1;exerc1=FALSE;ID=1584\n"
     ]
    }
   ],
   "source": [
    "awk '$9 ~ /gene_id=1584/ {print $0}' genes/chr8.gff "
   ]
  },
  {
   "cell_type": "markdown",
   "metadata": {
    "slideshow": {
     "slide_type": "slide"
    }
   },
   "source": [
    "# Bonus: Makefiles\n",
    "\n",
    "\n",
    "You may have noticed that the unix_intro folder contains a file called Makefile. \n",
    " \n",
    "What is a Makefile? Let's have a look at its contents first: "
   ]
  },
  {
   "cell_type": "code",
   "execution_count": 14,
   "metadata": {
    "run_control": {
     "frozen": false,
     "read_only": false
    }
   },
   "outputs": [
    {
     "name": "stdout",
     "output_type": "stream",
     "text": [
      "# This is a Makefile, which will be explained later in the course.\n",
      "# Please don't look at it yet :-)\n",
      "\n",
      "publish: slides_bash commit\n",
      "\techo \"convert the slides to pdf, commit, and push to github\"\n",
      "\tgit push\n",
      "\n",
      "\n",
      "test_exercises: start help ignorecase multiplefiles\n",
      "generate_exercises: generate_grep generate_awk\n"
     ]
    }
   ],
   "source": [
    "cd ..\n",
    "head Makefile"
   ]
  },
  {
   "cell_type": "markdown",
   "metadata": {},
   "source": [
    "Press space or the down key to continue"
   ]
  },
  {
   "cell_type": "markdown",
   "metadata": {
    "slideshow": {
     "slide_type": "subslide"
    }
   },
   "source": [
    "## Defining pipelines with Makefiles\n",
    "\n",
    "Makefiles are a basic way to define pipelines of shell commands.\n",
    "\n",
    "Nowadays there are more sophisticated tools available, but most of these are based on Makefiles.\n"
   ]
  },
  {
   "cell_type": "markdown",
   "metadata": {
    "slideshow": {
     "slide_type": "fragment"
    }
   },
   "source": [
    "A Makefile is a collection of \"rules\".\n",
    "\n",
    "Each of these rules follows this basic syntax is:\n",
    "\n",
    "```\n",
    "target: prerequisites\n",
    "    commands to execute\n",
    "```\n",
    "\n",
    "As you can see in the Makefile included, most of the rules allow to regenerate the exercise files, or to execute some commands without having to type them everytime.\n",
    "\n",
    "For example, the rule \"testrule\" is associated to two echo commands."
   ]
  },
  {
   "cell_type": "markdown",
   "metadata": {
    "slideshow": {
     "slide_type": "subslide"
    }
   },
   "source": [
    "## How to run Makefile rules\n",
    "\n",
    "To execute a rule in the Makefile, simply type:\n",
    "\n",
    "```\n",
    "make [name of the rule]\n",
    "```\n",
    "\n",
    "For example:\n",
    "\n"
   ]
  },
  {
   "cell_type": "code",
   "execution_count": 25,
   "metadata": {
    "run_control": {
     "frozen": false,
     "read_only": false
    }
   },
   "outputs": [
    {
     "name": "stdout",
     "output_type": "stream",
     "text": [
      "echo this is a Makefile rule\r\n",
      "this is a Makefile rule\r\n",
      "echo You can associate it to as many commands you want\r\n",
      "You can associate it to as many commands you want\r\n"
     ]
    }
   ],
   "source": [
    "make testrule"
   ]
  },
  {
   "cell_type": "markdown",
   "metadata": {},
   "source": [
    "The program \"make\" will automatically detect any file named \"Makefile\" in the current directory, and execute any rule with the specific name."
   ]
  },
  {
   "cell_type": "markdown",
   "metadata": {},
   "source": [
    "Rules can also be nested together. For example the two rules \"test_exercises\" and \"generate_exercises\" at the beginning of the file are a way to call several other rules together."
   ]
  },
  {
   "cell_type": "markdown",
   "metadata": {
    "slideshow": {
     "slide_type": "subslide"
    }
   },
   "source": [
    "## Dinner time!!\n"
   ]
  }
 ],
 "metadata": {
  "celltoolbar": "Slideshow",
  "hide_input": false,
  "kernelspec": {
   "display_name": "Bash",
   "language": "bash",
   "name": "bash"
  },
  "language_info": {
   "codemirror_mode": "shell",
   "file_extension": ".sh",
   "mimetype": "text/x-sh",
   "name": "bash"
  },
  "nav_menu": {},
  "toc": {
   "nav_menu": {},
   "number_sections": true,
   "sideBar": true,
   "skip_h1_title": false,
   "title_cell": "Table of Contents",
   "title_sidebar": "Contents",
   "toc_cell": true,
   "toc_position": {},
   "toc_section_display": "block",
   "toc_window_display": true
  }
 },
 "nbformat": 4,
 "nbformat_minor": 1
}
