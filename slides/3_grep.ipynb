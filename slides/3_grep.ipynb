{
 "cells": [
  {
   "cell_type": "markdown",
   "metadata": {
    "toc": "true"
   },
   "source": [
    "<h1>Table of Contents<span class=\"tocSkip\"></span></h1>\n",
    "<div class=\"toc\"><ul class=\"toc-item\"><li><span><a href=\"#Introduction-to-Unix,-Part-3---grep-and-regular-expressions\" data-toc-modified-id=\"Introduction-to-Unix,-Part-3---grep-and-regular-expressions-1\"><span class=\"toc-item-num\">1&nbsp;&nbsp;</span>Introduction to Unix, Part 3 - grep and regular expressions</a></span></li><li><span><a href=\"#Searching-patterns-into-file:-grep\" data-toc-modified-id=\"Searching-patterns-into-file:-grep-2\"><span class=\"toc-item-num\">2&nbsp;&nbsp;</span>Searching patterns into file: grep</a></span><ul class=\"toc-item\"><li><span><a href=\"#Accessing-grep-documentation\" data-toc-modified-id=\"Accessing-grep-documentation-2.1\"><span class=\"toc-item-num\">2.1&nbsp;&nbsp;</span>Accessing grep documentation</a></span></li><li><span><a href=\"#Searching-multiple-files\" data-toc-modified-id=\"Searching-multiple-files-2.2\"><span class=\"toc-item-num\">2.2&nbsp;&nbsp;</span>Searching multiple files</a></span></li><li><span><a href=\"#Searching-multiple-patterns-and-the-Unix-piping-system\" data-toc-modified-id=\"Searching-multiple-patterns-and-the-Unix-piping-system-2.3\"><span class=\"toc-item-num\">2.3&nbsp;&nbsp;</span>Searching multiple patterns and the Unix piping system</a></span></li></ul></li><li><span><a href=\"#The-Unix-Philosophy-and-Approach-to-programming\" data-toc-modified-id=\"The-Unix-Philosophy-and-Approach-to-programming-3\"><span class=\"toc-item-num\">3&nbsp;&nbsp;</span>The Unix Philosophy and Approach to programming</a></span></li><li><span><a href=\"#Applying-the-Unix-Philosophy-to-your-programming\" data-toc-modified-id=\"Applying-the-Unix-Philosophy-to-your-programming-4\"><span class=\"toc-item-num\">4&nbsp;&nbsp;</span>Applying the Unix Philosophy to your programming</a></span><ul class=\"toc-item\"><li><span><a href=\"#Example-of-Unix-Approach\" data-toc-modified-id=\"Example-of-Unix-Approach-4.1\"><span class=\"toc-item-num\">4.1&nbsp;&nbsp;</span>Example of Unix Approach</a></span></li></ul></li><li><span><a href=\"#Regular-Expressions\" data-toc-modified-id=\"Regular-Expressions-5\"><span class=\"toc-item-num\">5&nbsp;&nbsp;</span>Regular Expressions</a></span><ul class=\"toc-item\"><li><span><a href=\"#Regular-Expression-exercise\" data-toc-modified-id=\"Regular-Expression-exercise-5.1\"><span class=\"toc-item-num\">5.1&nbsp;&nbsp;</span>Regular Expression exercise</a></span></li></ul></li><li><span><a href=\"#Time-for-a-break!\" data-toc-modified-id=\"Time-for-a-break!-6\"><span class=\"toc-item-num\">6&nbsp;&nbsp;</span>Time for a break!</a></span></li></ul></div>"
   ]
  },
  {
   "cell_type": "markdown",
   "metadata": {
    "slideshow": {
     "slide_type": "slide"
    }
   },
   "source": [
    "# Introduction to Unix, Part 3 - grep and regular expressions\n",
    "\n",
    "**<font color='darkgreen'> Welcome to the Programming for Evolutionary Biology workshop!! </font>** \n",
    "\n",
    "Giovanni M. Dall'Olio and Alvaro Perdomo-Sabogal, 03/03/2019. All materials available here: https://github.com/dalloliogm/evop2019/archive/master.zip\n",
    "\n",
    "\n",
    "In this third part we will see the **grep** command to search the contents of files, and some basic regular expressions.\n",
    "\n",
    "Press space or down key to continue."
   ]
  },
  {
   "cell_type": "code",
   "execution_count": 27,
   "metadata": {
    "run_control": {
     "frozen": false,
     "read_only": false
    },
    "slideshow": {
     "slide_type": "skip"
    }
   },
   "outputs": [],
   "source": [
    "# Configuration - please ignore - this should not appear in the slideshow\n",
    "alias grep='grep --color'\n",
    "cd\n",
    "cd workspace/Peb2019/exercises/\n"
   ]
  },
  {
   "cell_type": "markdown",
   "metadata": {
    "slideshow": {
     "slide_type": "slide"
    }
   },
   "source": [
    "# Searching patterns into file: grep\n",
    "\n",
    "The instructions for the next exercises are stored in the <font color='blue'> **2_searching_patterns.txt** </font> file. \n",
    "\n",
    "However, if you look at this file with head or less, you will see that its contents have no meaning!"
   ]
  },
  {
   "cell_type": "code",
   "execution_count": 28,
   "metadata": {
    "run_control": {
     "frozen": false,
     "read_only": false
    },
    "slideshow": {
     "slide_type": "-"
    }
   },
   "outputs": [
    {
     "name": "stdout",
     "output_type": "stream",
     "text": [
      "P8mW50b1cJWpWZgKFJFwM0s7qC4Zyy    lfNoCAcqioPMpafokl1qbLeviYz8PHay3RG\n",
      "DtfEl1liowE hxskxdy95cmWsVPlFT    PvZ0A0olHEKKofWXaLFRjRMKGwceCEHg144\n",
      "k8g99AzeTeKmOtxbg8Zqd9sPReQ4IV    OgJdwlpzORBuRr9VyMy0Dsqu9 ab743qVIZ\n",
      "cDfibnWrkZtLbJtUgQ6VBtu47Efutj    OPsz9joHgjVsMxXT4wKkrDKJ0K8R09UsegE\n",
      "dLWKo0BZITViH835P88sVxcfDUBkEH    BD8J80icxMHHXxfIgWuHkv5Gw1JajrE8blt\n",
      "tD x0OwbI3BceM6OsnB5z30N7PhzjJ    3Jp8vADVNptAfc3T5DBGUUg1V7BJi4A3NPF\n",
      "AgUGZnR1NvC5kBKQF4fXakZKUJSn1e    EBil5kDuu3DfN6Aiod0Ye3JVKlNyTQY3XE7\n",
      "T89m9 4lo5lrih3sleSItTGRrOqGvH    lZ0G0New O3foaoTzDktlusrewqo6BauYxX\n",
      "FtyTsL9gi7I93hkO8aEODXSngRUNkp    fzXUYW08 jdrc3pvBrRNi4gSSm4iNdwrJMU\n",
      "9hphNi41uXoyi4gXcgC6GhQGDTAbIR    qNGuxDKJ0n9EExyxgFuRxNUW5bDXLxUxCkc\n"
     ]
    }
   ],
   "source": [
    "head 2_searching_patterns.txt"
   ]
  },
  {
   "cell_type": "markdown",
   "metadata": {
    "slideshow": {
     "slide_type": "-"
    }
   },
   "source": [
    "This is because the instructions are hidden in the file, just to make things more interesting!\n",
    "\n",
    "Press space or the down key to see how to continue."
   ]
  },
  {
   "cell_type": "markdown",
   "metadata": {
    "slideshow": {
     "slide_type": "subslide"
    }
   },
   "source": [
    "The first instruction for the first exercise is in the lines containing the word \"start\" somewhere.\n",
    "\n",
    "To find them, type:\n",
    "\n",
    "```\n",
    "$: grep start 2_searching_patterns.txt\n",
    "```"
   ]
  },
  {
   "cell_type": "code",
   "execution_count": 4,
   "metadata": {
    "run_control": {
     "frozen": false,
     "read_only": false
    },
    "slideshow": {
     "slide_type": "fragment"
    }
   },
   "outputs": [
    {
     "name": "stdout",
     "output_type": "stream",
     "text": [
      "cyiywNQhsTaFvrX3F0 \u001b[01;31m\u001b[Kstart\u001b[m\u001b[K6473DC    \r\n",
      "DRyKuiS dTekI3ctr\u001b[01;31m\u001b[Kstart\u001b[m\u001b[Kv7VXoOCC     ______________________________\r\n",
      "S4xFQNhv0ipsyg75yCoxA3he\u001b[01;31m\u001b[Kstart\u001b[m\u001b[KJ    / Congrats!                    \\  \r\n",
      "t \u001b[01;31m\u001b[Kstart\u001b[m\u001b[K e6YBF5VeAJd1niRCAm54fv    |  You've used grep correctly, |\r\n",
      "UQh\u001b[01;31m\u001b[Kstart\u001b[m\u001b[K S6CADhyFEGtamLmgUw5mN    \\  and found a cow.            /\r\n",
      "na3xDyV \u001b[01;31m\u001b[Kstart\u001b[m\u001b[K nEn FcDkDoHlJ5U8     ------------------------------\r\n",
      "vB64co0qVmDSfMy \u001b[01;31m\u001b[Kstart\u001b[m\u001b[KHBRBNmMou            \\   ^__^\r\n",
      "Ucm64KuL6ci0HB \u001b[01;31m\u001b[Kstart\u001b[m\u001b[Kg3B91ubyVR             \\  (oo)\\_______\r\n",
      "dmATFfwkAnvmm  \u001b[01;31m\u001b[Kstart\u001b[m\u001b[KhJsUB7Zhpa                (__)\\       )\\/\\ \r\n",
      "x \u001b[01;31m\u001b[Kstart\u001b[m\u001b[KdyxGG 530mUC7MDaokCAKkP                    ||----w |\r\n",
      "TnuS 6WyvWQff\u001b[01;31m\u001b[Kstart\u001b[m\u001b[K bhC8FgngIfA                    ||     ||\r\n",
      "Lpjd8fy4HwOj3\u001b[01;31m\u001b[Kstart\u001b[m\u001b[K KFmLWhcpH1D    \r\n",
      "qrcD DUVmU67qIN\u001b[01;31m\u001b[Kstart\u001b[m\u001b[K eimdNwsk7    \r\n",
      "x \u001b[01;31m\u001b[Kstart\u001b[m\u001b[KYmyFAMljNGPoBZxWvdugLOE    \r\n",
      "Egmqh5pXm ee\u001b[01;31m\u001b[Kstart\u001b[m\u001b[K 5JkazumfP9      The command grep allows to search\r\n",
      "T0Zq6 \u001b[01;31m\u001b[Kstart\u001b[m\u001b[KfnvP8cIXnfqbB4q5la0    for a pattern in a text file.\r\n",
      "0apOeBLv7YvlPA \u001b[01;31m\u001b[Kstart\u001b[m\u001b[K gkQLhw5LJ    \r\n",
      "CxfzRe541y\u001b[01;31m\u001b[Kstart\u001b[m\u001b[KJj68PrNKawesz08    It will print all the matching \r\n",
      "bd7175m w \u001b[01;31m\u001b[Kstart\u001b[m\u001b[K 5YFVqNF1A8ZJS6    lines to the screen.\r\n",
      "Hj6BoO \u001b[01;31m\u001b[Kstart\u001b[m\u001b[KsRWuvPNGBg4ZSxdy5K    \r\n",
      "FrowUgP0Rww \u001b[01;31m\u001b[Kstart\u001b[m\u001b[KD56jcTvQQWEMt    =================\r\n",
      "f6exIg44GXvkBKEj5O0sPt \u001b[01;31m\u001b[Kstart\u001b[m\u001b[KuT    Next Exercise\r\n",
      "pUasyifskH\u001b[01;31m\u001b[Kstart\u001b[m\u001b[K AA4QhdNI5CYOqp    =================\r\n",
      "WpEr7I1I7ajn3Vb \u001b[01;31m\u001b[Kstart\u001b[m\u001b[KyV77kLktG    \r\n",
      "PULXHsnrjVtqGQJP0T \u001b[01;31m\u001b[Kstart\u001b[m\u001b[K x  mT    In the next exercise we will see \r\n",
      "e94IRW6tna8G9gzXnMFeyeWiM\u001b[01;31m\u001b[Kstart\u001b[m\u001b[K    how to access grep's documentation.\r\n",
      "Yj7ItSnjwa xpIIJ6Pn\u001b[01;31m\u001b[Kstart\u001b[m\u001b[Ky4c9pv    \r\n",
      "amG5UYNApOEml0 \u001b[01;31m\u001b[Kstart\u001b[m\u001b[KgehiEmraPN    Grep the following word to continue:\r\n",
      "c5zgU3wsG\u001b[01;31m\u001b[Kstart\u001b[m\u001b[KLXkuSEU5X6htL4vh      _            _        \r\n",
      "nYoEzZOnC18fdKoy \u001b[01;31m\u001b[Kstart\u001b[m\u001b[K SwGylYg     | |          | |       \r\n",
      "vEj5 \u001b[01;31m\u001b[Kstart\u001b[m\u001b[K qFNICtaBpVNgDRpfaJk     | |__    ___ | | _ __  \r\n",
      "ik7aYCKUtVVn4s3mQS8NEKx6 \u001b[01;31m\u001b[Kstart\u001b[m\u001b[K     | '_ \\  / _ \\| || '_ \\ \r\n",
      "LscAgVef\u001b[01;31m\u001b[Kstart\u001b[m\u001b[KXT3xEhEESN8qzhyU0     | | | ||  __/| || |_) |\r\n",
      "r4XFj\u001b[01;31m\u001b[Kstart\u001b[m\u001b[Kez4gqwdMPsmjysywXiW5     |_| |_| \\___||_|| .__/ \r\n",
      "KQS1yymt0dfm \u001b[01;31m\u001b[Kstart\u001b[m\u001b[K 6IRkDDywzwg                     | |    \r\n",
      "Y5XQOdrDQ1uU 8uexqOkpQy \u001b[01;31m\u001b[Kstart\u001b[m\u001b[K                      |_|  \r\n",
      "cUhpfXSO \u001b[01;31m\u001b[Kstart\u001b[m\u001b[KWCjg6ImRVLQoLcwx    \r\n",
      "1PKSKJRIAYZ65HBu\u001b[01;31m\u001b[Kstart\u001b[m\u001b[K6yeNy4ti6    \r\n"
     ]
    }
   ],
   "source": [
    "grep start 2_searching_patterns.txt"
   ]
  },
  {
   "cell_type": "markdown",
   "metadata": {
    "slideshow": {
     "slide_type": "slide"
    }
   },
   "source": [
    "## Accessing grep documentation\n",
    "\n",
    "To access the documentation of a command, we can use the **man** command.\n",
    "\n",
    "Let's type the following:\n",
    "\n",
    "```\n",
    "$: man grep\n",
    "```\n",
    "\n",
    "This will allow to navigate the documentation for grep, in the same modality as with the **less** command. Use the arrows to scroll, and q to exit.\n",
    "\n",
    "For the next exercise, you will have to identify two options in the man page, and use them to do a case-insensitive search for \"ignorecase\", and count the number of lines."
   ]
  },
  {
   "cell_type": "code",
   "execution_count": 5,
   "metadata": {
    "run_control": {
     "frozen": false,
     "read_only": false
    },
    "slideshow": {
     "slide_type": "subslide"
    }
   },
   "outputs": [
    {
     "name": "stdout",
     "output_type": "stream",
     "text": [
      "3rC1S7O m\u001b[01;31m\u001b[Khelp\u001b[m\u001b[K uDa8dTWUinNSVSDX    \r\n",
      "aeda4XBrj7YzD \u001b[01;31m\u001b[Khelp\u001b[m\u001b[K xnpmxY3J1I0    The documentation for grep can \r\n",
      "kFRgBPrGHX9GLsjfWYQ \u001b[01;31m\u001b[Khelp\u001b[m\u001b[K A3QIf    be accessed through man:\r\n",
      "GJD8rk1Aa\u001b[01;31m\u001b[Khelp\u001b[m\u001b[K rFvCwxsfVGy8 YJy    \r\n",
      "DJoDl10eVzXkHLo7\u001b[01;31m\u001b[Khelp\u001b[m\u001b[KDTfeA3GYvX        $: man grep\r\n",
      "I \u001b[01;31m\u001b[Khelp\u001b[m\u001b[K FGSlQgjeD7MN6Z13g1x0vNs    \r\n",
      "3RT8c1IHNBSaYmEGoN\u001b[01;31m\u001b[Khelp\u001b[m\u001b[K PCfxdsz    Scroll down to see all the \r\n",
      "O Z DWnhzuyIoPw9BQKz\u001b[01;31m\u001b[Khelp\u001b[m\u001b[KaJKm6c    parameters for grep and their description.\r\n",
      "hRomqLnWx4geJlErVCz0X ZVv\u001b[01;31m\u001b[Khelp\u001b[m\u001b[K     \r\n",
      "aPP69R8T5oHzJa0C W \u001b[01;31m\u001b[Khelp\u001b[m\u001b[K WUMyv4    Use / to search for text.\r\n",
      "ot1fC vOE1 \u001b[01;31m\u001b[Khelp\u001b[m\u001b[K BbP6Fp1jjli63x    Press the q key to exit.\r\n",
      "haluPmj\u001b[01;31m\u001b[Khelp\u001b[m\u001b[K kO1Hqxi5OXE5g1Z6Vu    \r\n",
      "ZLpjYjWAZAj\u001b[01;31m\u001b[Khelp\u001b[m\u001b[K fAEFHYQ4rO7bFS    \r\n",
      "9qPAKjaYfUFosjNaEgIIjqcx\u001b[01;31m\u001b[Khelp\u001b[m\u001b[KUC    \r\n",
      "rXMAdAeVM1N6S1wIXM\u001b[01;31m\u001b[Khelp\u001b[m\u001b[K ri5Hzua    ==============\r\n",
      "Z1wBOjpWKjii3Vl9YNTX\u001b[01;31m\u001b[Khelp\u001b[m\u001b[K AZyGD    Next exercise\r\n",
      "BRdO1AiB9TGVw6bhTo\u001b[01;31m\u001b[Khelp\u001b[m\u001b[KLvzl7ncH    ==============\r\n",
      "PVW6VrjQ \u001b[01;31m\u001b[Khelp\u001b[m\u001b[K pkWdQ6V8MUlBb4mm    \r\n",
      "M48fL93YM\u001b[01;31m\u001b[Khelp\u001b[m\u001b[KYdAsUIvJ49XZeu6Em    For the next exercise, you will need to open \r\n",
      "Y5xGjZqOSOr0KgGv1dB\u001b[01;31m\u001b[Khelp\u001b[m\u001b[KqwLgkag    grep's documentation and identify two options:\r\n",
      "RUkLYcn67CO8vdJP \u001b[01;31m\u001b[Khelp\u001b[m\u001b[K dgdyAbkr    \r\n",
      "uk4qm4NtrDwxoifclE5zu\u001b[01;31m\u001b[Khelp\u001b[m\u001b[K QZBj    - the option for case-insensitive searches\r\n",
      "f9kFTlhQQAm\u001b[01;31m\u001b[Khelp\u001b[m\u001b[K qWaQWrvPWGz eL    - the option for counting \r\n",
      "cfGAsfmlGnBaDu4YdoRM\u001b[01;31m\u001b[Khelp\u001b[m\u001b[KSY0oUv      the number of matching lines, \r\n",
      "Ij3Fv\u001b[01;31m\u001b[Khelp\u001b[m\u001b[KhbMeRlx 7tydUBcaCznjF      instead of printing them to the screen.\r\n",
      "\u001b[01;31m\u001b[Khelp\u001b[m\u001b[KeoAiKHpCi9jT 4iNxf9UucLfG0    \r\n",
      "EJVr l\u001b[01;31m\u001b[Khelp\u001b[m\u001b[K jkJcVXqoiITMrAgC00c    Once you have identified these options, \r\n",
      "hXissBPNstqPwJrL\u001b[01;31m\u001b[Khelp\u001b[m\u001b[K eb7g0BOHl    do a case-insensitive search on this file for the word \r\n",
      "y3CwhA0YH3v \u001b[01;31m\u001b[Khelp\u001b[m\u001b[K 0huOOdCCSiWyb    \"ignorecase\", then count the number of lines.\r\n",
      "pQun5zSme6 \u001b[01;31m\u001b[Khelp\u001b[m\u001b[K 80vwKy oy4Ti X    \r\n",
      "AA6\u001b[01;31m\u001b[Khelp\u001b[m\u001b[KovE0Iw4f1CeWrTzC1nwpb4u        \r\n"
     ]
    }
   ],
   "source": [
    "grep help 2_searching_patterns.txt"
   ]
  },
  {
   "cell_type": "code",
   "execution_count": 6,
   "metadata": {
    "run_control": {
     "frozen": false,
     "read_only": false
    },
    "slideshow": {
     "slide_type": "subslide"
    }
   },
   "outputs": [
    {
     "name": "stdout",
     "output_type": "stream",
     "text": [
      "J0WG\u001b[01;31m\u001b[Kignorecase\u001b[m\u001b[Kqrq 9hak97vkCYL0    \r\n",
      "PWPsSOpcgCPM\u001b[01;31m\u001b[Kignorecase\u001b[m\u001b[KvzY7sDxG            \r\n",
      "GZVfLsGkT7vOAeofqO\u001b[01;31m\u001b[Kignorecase\u001b[m\u001b[KKo    Remember that, to continue with the exercise, \r\n",
      "Wc37PlL5LsjqvNrgo\u001b[01;31m\u001b[Kignorecase\u001b[m\u001b[K7jW    you need to do a case-insensitive search for the word\r\n",
      "y3CwhA0YH3v help 0huOOdCCSiWyb    \"\u001b[01;31m\u001b[Kignorecase\u001b[m\u001b[K\", then count the number of lines.\r\n",
      "Ei4dDJ\u001b[01;31m\u001b[Kignorecase\u001b[m\u001b[KL64bJfMudEsq5M    \r\n",
      "ZO3JWg\u001b[01;31m\u001b[Kignorecase\u001b[m\u001b[KAgQb0mUonH3Snj    | itive       |\r\n",
      "rhUDhIJsyq4mYhcPFQo\u001b[01;31m\u001b[Kignorecase\u001b[m\u001b[KN    \\ search      /\r\n"
     ]
    }
   ],
   "source": [
    "# If we do a search for \"ignorecase\" without any option, we only get some of the lines.\n",
    "# You can notice that the cow is not properly displayed :-)\n",
    "grep ignorecase 2_searching_patterns.txt"
   ]
  },
  {
   "cell_type": "code",
   "execution_count": 7,
   "metadata": {
    "run_control": {
     "frozen": false,
     "read_only": false
    },
    "slideshow": {
     "slide_type": "fragment"
    }
   },
   "outputs": [
    {
     "name": "stdout",
     "output_type": "stream",
     "text": [
      "J0WG\u001b[01;31m\u001b[Kignorecase\u001b[m\u001b[Kqrq 9hak97vkCYL0    \r\n",
      "PWPsSOpcgCPM\u001b[01;31m\u001b[Kignorecase\u001b[m\u001b[KvzY7sDxG            \r\n",
      "GZVfLsGkT7vOAeofqO\u001b[01;31m\u001b[Kignorecase\u001b[m\u001b[KKo    Remember that, to continue with the exercise, \r\n",
      "Wc37PlL5LsjqvNrgo\u001b[01;31m\u001b[Kignorecase\u001b[m\u001b[K7jW    you need to do a case-insensitive search for the word\r\n",
      "y3CwhA0YH3v help 0huOOdCCSiWyb    \"\u001b[01;31m\u001b[Kignorecase\u001b[m\u001b[K\", then count the number of lines.\r\n",
      "Ei4dDJ\u001b[01;31m\u001b[Kignorecase\u001b[m\u001b[KL64bJfMudEsq5M    \r\n",
      "yX6cvAZs\u001b[01;31m\u001b[KIGNORECASE\u001b[m\u001b[Khu3lxg5OTkk9     _____________\r\n",
      "YBgY HtVe6lUjUbhYG\u001b[01;31m\u001b[KIGNORECASE\u001b[m\u001b[KSd    / Good Job!   \\ \r\n",
      "fCkzDFRyUI\u001b[01;31m\u001b[KignOrecase\u001b[m\u001b[KNjeVrQaL V    | You did a   |\r\n",
      "DjP4Qa \u001b[01;31m\u001b[KignOrecase\u001b[m\u001b[K60rD76lrkJlOP    | case-insens |\r\n",
      "ZO3JWg\u001b[01;31m\u001b[Kignorecase\u001b[m\u001b[KAgQb0mUonH3Snj    | itive       |\r\n",
      "rhUDhIJsyq4mYhcPFQo\u001b[01;31m\u001b[Kignorecase\u001b[m\u001b[KN    \\ search      /\r\n",
      "eIb0cb\u001b[01;31m\u001b[KignOrecase\u001b[m\u001b[KrqT99cHXsbazNE     -------------\r\n",
      "dth3agTCwYH0ou\u001b[01;31m\u001b[KignOrecase\u001b[m\u001b[K86d908            \\   ^__^\r\n",
      "n \u001b[01;31m\u001b[KignOrecase\u001b[m\u001b[K8JdVs9NCgrFTRXELXJ             \\  (oo)\\_______\r\n",
      "Il7nHbc\u001b[01;31m\u001b[KIGNORECASE\u001b[m\u001b[KEgUF5IeSoZfT1                (__)\\       )\\/\\ \r\n",
      "E0\u001b[01;31m\u001b[KIGNORECASE\u001b[m\u001b[KQrSNWGlfJITjVutE0q                    ||----w |\r\n",
      "0CSMFb4OUMoaeSjS\u001b[01;31m\u001b[KIGNORECASE\u001b[m\u001b[KBCxr                    ||     ||\r\n",
      "H3FDmXPjSt0\u001b[01;31m\u001b[KIgnorEcase\u001b[m\u001b[KCB7Lfrtoh    \r\n",
      "zjZwttL5RQ\u001b[01;31m\u001b[KignOrecase\u001b[m\u001b[KePhoKUN6lz    \r\n",
      "LvX4RShx95em\u001b[01;31m\u001b[KIgnorEcase\u001b[m\u001b[KQkJNFiqY        \r\n"
     ]
    }
   ],
   "source": [
    "# The -i option allows to do a case-insensitive search.\n",
    "# As you can see, some lines contain upper case characters:\n",
    "grep -i ignorecase 2_searching_patterns.txt"
   ]
  },
  {
   "cell_type": "code",
   "execution_count": 8,
   "metadata": {
    "run_control": {
     "frozen": false,
     "read_only": false
    },
    "slideshow": {
     "slide_type": "fragment"
    }
   },
   "outputs": [
    {
     "name": "stdout",
     "output_type": "stream",
     "text": [
      "21\r\n"
     ]
    }
   ],
   "source": [
    "# To solve the exercise, we also have to count the number of output lines.\n",
    "# This can be done with the \"-c\" option:\n",
    "grep -i -c ignorecase 2_searching_patterns.txt"
   ]
  },
  {
   "cell_type": "code",
   "execution_count": 26,
   "metadata": {
    "run_control": {
     "frozen": false,
     "read_only": false
    },
    "slideshow": {
     "slide_type": "fragment"
    }
   },
   "outputs": [
    {
     "name": "stdout",
     "output_type": "stream",
     "text": [
      "CtDB RLr3x3do9\u001b[01;31m\u001b[K21\u001b[m\u001b[KSqu8iOvohs7vk4    \n",
      "4kUkCECIiM\u001b[01;31m\u001b[K21\u001b[m\u001b[KOY8EcY4TIsPkKLBOmj    \n",
      "Qjk\u001b[01;31m\u001b[K21\u001b[m\u001b[KMQpAeF4VyA8cAlEXfl8wWJzDY     ____________________\n",
      "B363B5byCj1\u001b[01;31m\u001b[K21\u001b[m\u001b[KrzXGoQIiRahUq9zqz    / Congrats! Yes      \\ \n",
      "La8Ku9mjSIpSfVrAgi \u001b[01;31m\u001b[K21\u001b[m\u001b[KDb5puhK65    | the answer to the  |\n",
      "Gc9kKOst\u001b[01;31m\u001b[K21\u001b[m\u001b[KABdPUU5Y6yxvMFbmBEr5    | case-insensitive   |\n",
      "X9ihXj3yFmi\u001b[01;31m\u001b[K21\u001b[m\u001b[KYQ1tRg6pnqhTLWclL    | and count question |\n",
      "Zax\u001b[01;31m\u001b[K21\u001b[m\u001b[K3Y1OJbXitxdyPlXFu0hnNoi6i    | is \u001b[01;31m\u001b[K21\u001b[m\u001b[K.             /\n",
      "tAWUDnEbN1stlEw\u001b[01;31m\u001b[K21\u001b[m\u001b[KJmzgr1mwcr9Ok     --------------------\n",
      "efc\u001b[01;31m\u001b[K21\u001b[m\u001b[K9TYASVKMmFWPOpMXaYCYnN5Nu            \\   ^__^\n",
      "kkzt8YaRyVAtaXiQC7Q9LlFLzFj\u001b[01;31m\u001b[K21\u001b[m\u001b[Ka             \\  (oo)\\_______\n",
      "eELR\u001b[01;31m\u001b[K21\u001b[m\u001b[KQbUm1wLGgQQGN8F A 6HJTq3                (__)\\       )\\/\\  \n",
      "BEN sRlcDIOQPyADwCy3\u001b[01;31m\u001b[K21\u001b[m\u001b[K7naBh8TU                    ||----w |\n",
      "saR SuoPzf5eV\u001b[01;31m\u001b[K21\u001b[m\u001b[Kw5v6sccKkqTJy9U                    ||     ||\n",
      "iYVLEcMjQF\u001b[01;31m\u001b[K21\u001b[m\u001b[KMF1n lvFrFqXfQu1kG    \n",
      "4yQdcMZY97LVuLc9Y4\u001b[01;31m\u001b[K21\u001b[m\u001b[K7zYEzC4ceK    \n",
      "NZdPx\u001b[01;31m\u001b[K21\u001b[m\u001b[K6fVVJ6tc3WMzeIR6f4cHDad    =============\n",
      "Q07zhV\u001b[01;31m\u001b[K21\u001b[m\u001b[Kz1OTJazhH03k4aCpGydFEn    Next topic\n",
      "\u001b[01;31m\u001b[K21\u001b[m\u001b[KPaFNZKqvVZq6bwr6FGI4TA9cy5Zr    =============\n",
      "xGKrwF3tpNVzq8ipAPxPD\u001b[01;31m\u001b[K21\u001b[m\u001b[KpkSJ3XU    \n",
      "3u1FTmdrtZUFB5TAcm9lxbKgdBM\u001b[01;31m\u001b[K21\u001b[m\u001b[Km    We are going to make a break from\n",
      "JsBQ\u001b[01;31m\u001b[K21\u001b[m\u001b[Kj6EGfYMsvRwTfmD Kv8wDJuI    the exercises to talk about the Unix\n",
      "8ay3N5uRdYncy0B8RHV4XcP\u001b[01;31m\u001b[K21\u001b[m\u001b[KsNvak    piping system. \n",
      "s9UGvUvcQQxss1ETq\u001b[01;31m\u001b[K21\u001b[m\u001b[KleshRaftsUQ    This will also help you reading this\n",
      "\u001b[01;31m\u001b[K21\u001b[m\u001b[K7SnZXPGgtIIwQPeyGQ6nYZgZq4wr    output more easily, by piping it into\n",
      "xtSyHNFsQZijEC\u001b[01;31m\u001b[K21\u001b[m\u001b[KckUdzDjaJDboxQ    another Unix command such as less or\n",
      "\u001b[01;31m\u001b[K21\u001b[m\u001b[KdPvDB6tpt7c5eKNz3voR7HbqvVEG    head. \n",
      "8CRaMViZ9m5hQXko\u001b[01;31m\u001b[K21\u001b[m\u001b[KpwgHT6wurX39    \n",
      "QR\u001b[01;31m\u001b[K21\u001b[m\u001b[KgbuUOy67xAVKYyUOeXasfj3L9O    For example, try \n",
      "iLgB tGHDkYZ\u001b[01;31m\u001b[K21\u001b[m\u001b[K iLhgjbFj9GE thp    $: grep \u001b[01;31m\u001b[K21\u001b[m\u001b[K 2_searching_patterns.txt    \n",
      "iLgB dsadaGZ\u001b[01;31m\u001b[K21\u001b[m\u001b[K iLhgjbFj9GE thp    to read this output easily.\n"
     ]
    }
   ],
   "source": [
    "# solution: how to find the instructions for the next exercise\n",
    "grep 21 2_searching_patterns.txt"
   ]
  },
  {
   "cell_type": "markdown",
   "metadata": {
    "slideshow": {
     "slide_type": "slide"
    }
   },
   "source": [
    "# The Unix Philosophy and Approach to programming\n",
    "\n",
    "Earlier this morning we mentioned the Unix Philosophy:\n",
    "\n",
    "- Make each program do one thing well.\n",
    "- Expect the output of every program to become the input to another, as yet unknown, program.\n",
    "- Work on file streams, reading one line at a time."
   ]
  },
  {
   "cell_type": "markdown",
   "metadata": {
    "slideshow": {
     "slide_type": "fragment"
    }
   },
   "source": [
    "All the commands we saw today follow the Unix philosophy:\n",
    "\n",
    "- **ls** is for listing files\n",
    "- **grep** is for searching patterns in files\n",
    "- **less**, **head**, and others are for seeing the contents of a file\n",
    "\n",
    "So, they all do one single thing, and they do it extremely well. Each tool is well documented and has several parameter options to alter the default behaviour; but overall, each tool focuses on one things only."
   ]
  },
  {
   "cell_type": "markdown",
   "metadata": {
    "slideshow": {
     "slide_type": "slide"
    }
   },
   "source": [
    "## Combining multiple Unix commands with the pipe symbol (|)\n",
    "\n",
    "We can combine multiple commands together using the piping symbol, |.\n",
    "\n",
    "For example, we have seen that the output of grep can be very long and difficult to read on the screen.\n",
    "\n",
    "Thus, we can combine it together with less or head, to read it more easily:\n",
    "\n",
    "```\n",
    "$: grep (first pattern) myfile.txt | head\n",
    "$: grep (first pattern) myfile.txt | less\n",
    "\n",
    "```\n",
    "\n"
   ]
  },
  {
   "cell_type": "markdown",
   "metadata": {
    "slideshow": {
     "slide_type": "slide"
    }
   },
   "source": [
    "## Exercise on Unix pipe: Searching multiple patterns with grep\n",
    "\n",
    "How can we search that contain two or more patterns?\n",
    "\n",
    "One solution is to use the Unix piping system, executing one grep command, and then another grep on the output.\n",
    "\n",
    "This can be done using the pipe \"|\" symbol, like the following:\n",
    "\n",
    "```\n",
    "$: grep (first pattern) myfile.txt | grep (second pattern)\n",
    "```\n",
    "\n",
    "Press space or the down key for some examples."
   ]
  },
  {
   "cell_type": "markdown",
   "metadata": {
    "slideshow": {
     "slide_type": "subslide"
    }
   },
   "source": [
    "The file data/genes/mgat_genes.gb is a genbank file. Notice how this format is well suited for grep searches:"
   ]
  },
  {
   "cell_type": "code",
   "execution_count": 12,
   "metadata": {
    "run_control": {
     "frozen": false,
     "read_only": false
    }
   },
   "outputs": [
    {
     "name": "stdout",
     "output_type": "stream",
     "text": [
      "LOCUS       HUMUDPCNA               4705 bp    DNA     linear   PRI 19-SEP-1995\r\n",
      "DEFINITION  Human alpha-1,3-mannosyl-glycoprotein beta-1,\r\n",
      "            2-N-acetylglucosaminyltransferase (MGAT) gene, complete cds.\r\n",
      "ACCESSION   M61829\r\n",
      "VERSION     M61829.1  GI:340075\r\n",
      "KEYWORDS    alpha-1,3-mannosyl-glycoprotein beta-1,2-N-acetylglucosaminyltrae.\r\n",
      "SOURCE      Homo sapiens (human)\r\n",
      "  ORGANISM  Homo sapiens\r\n",
      "            Eukaryota; Metazoa; Chordata; Craniata; Vertebrata; Euteleostomi;\r\n",
      "            Mammalia; Eutheria; Euarchontoglires; Primates; Haplorrhini;\r\n"
     ]
    }
   ],
   "source": [
    "head genes/mgat_genes.gb"
   ]
  },
  {
   "cell_type": "markdown",
   "metadata": {
    "slideshow": {
     "slide_type": "fragment"
    }
   },
   "source": [
    "Let's say we want to search all the lines where \"ORGANISM\" is \"Homo sapiens\". \n",
    "\n",
    "We can do it with two grep commands:\n",
    "\n",
    "```\n",
    "grep ORGANISM genes/mgat_genes.gb | grep 'Homo sapiens'\n",
    "```\n",
    "Notice that searching for \"Homo sapiens\" alone would not be enough, as there are other lines where the word \"Homo sapiens\" is present."
   ]
  },
  {
   "cell_type": "code",
   "execution_count": 13,
   "metadata": {
    "run_control": {
     "frozen": false,
     "read_only": false
    }
   },
   "outputs": [
    {
     "name": "stdout",
     "output_type": "stream",
     "text": [
      "  ORGANISM  \u001b[01;31m\u001b[KHomo sapiens\u001b[m\u001b[K\r\n",
      "  ORGANISM  \u001b[01;31m\u001b[KHomo sapiens\u001b[m\u001b[K\r\n",
      "  ORGANISM  \u001b[01;31m\u001b[KHomo sapiens\u001b[m\u001b[K\r\n",
      "  ORGANISM  \u001b[01;31m\u001b[KHomo sapiens\u001b[m\u001b[K\r\n",
      "  ORGANISM  \u001b[01;31m\u001b[KHomo sapiens\u001b[m\u001b[K\r\n",
      "  ORGANISM  \u001b[01;31m\u001b[KHomo sapiens\u001b[m\u001b[K\r\n",
      "  ORGANISM  \u001b[01;31m\u001b[KHomo sapiens\u001b[m\u001b[K\r\n",
      "  ORGANISM  \u001b[01;31m\u001b[KHomo sapiens\u001b[m\u001b[K\r\n"
     ]
    }
   ],
   "source": [
    "grep ORGANISM genes/mgat_genes.gb | grep 'Homo sapiens'"
   ]
  },
  {
   "cell_type": "markdown",
   "metadata": {
    "slideshow": {
     "slide_type": "subslide"
    }
   },
   "source": [
    "The file contains sequences from two other organisms apart from Homo sapiens. Can you guess which one to search for the next exercise?"
   ]
  },
  {
   "cell_type": "code",
   "execution_count": 19,
   "metadata": {
    "run_control": {
     "frozen": false,
     "read_only": false
    },
    "slideshow": {
     "slide_type": "fragment"
    }
   },
   "outputs": [
    {
     "name": "stdout",
     "output_type": "stream",
     "text": [
      "  ORGANISM  Bos \u001b[01;31m\u001b[Ktaurus\u001b[m\u001b[K\r\n",
      "  ORGANISM  Bos \u001b[01;31m\u001b[Ktaurus\u001b[m\u001b[K\r\n",
      "  ORGANISM  Bos \u001b[01;31m\u001b[Ktaurus\u001b[m\u001b[K\r\n",
      "  ORGANISM  Bos \u001b[01;31m\u001b[Ktaurus\u001b[m\u001b[K\t\t\t   _______________\r\n",
      "  ORGANISM  Bos \u001b[01;31m\u001b[Ktaurus\u001b[m\u001b[K\t\t          < Good Guess! >\r\n",
      "  ORGANISM  Bos \u001b[01;31m\u001b[Ktaurus\u001b[m\u001b[K\t\t\t   ---------------\r\n",
      "  ORGANISM  Bos \u001b[01;31m\u001b[Ktaurus\u001b[m\u001b[K\t\t\t\t\t\\   ^__^\r\n",
      "  ORGANISM  Bos \u001b[01;31m\u001b[Ktaurus\u001b[m\u001b[K\t\t\t\t\t \\  (oo)\\_______\r\n",
      "  ORGANISM  Bos \u001b[01;31m\u001b[Ktaurus\u001b[m\u001b[K\t\t\t  \t\t    (__)\\       )\\/\\\r\n",
      "  ORGANISM  Bos \u001b[01;31m\u001b[Ktaurus\u001b[m\u001b[K\t\t\t\t\t\t||----w |\r\n",
      "  ORGANISM  Bos \u001b[01;31m\u001b[Ktaurus\u001b[m\u001b[K\t\t\t\t\t\t||     ||\r\n",
      "  ORGANISM  Bos \u001b[01;31m\u001b[Ktaurus\u001b[m\u001b[K\r\n",
      "  ORGANISM  Bos \u001b[01;31m\u001b[Ktaurus\u001b[m\u001b[K\r\n",
      "  ORGANISM  Bos \u001b[01;31m\u001b[Ktaurus\u001b[m\u001b[K\r\n",
      "  ORGANISM  Bos \u001b[01;31m\u001b[Ktaurus\u001b[m\u001b[K\r\n",
      "  ORGANISM  Bos \u001b[01;31m\u001b[Ktaurus\u001b[m\u001b[K\r\n",
      "  ORGANISM  Bos \u001b[01;31m\u001b[Ktaurus\u001b[m\u001b[K\t\t\t\t===============\r\n",
      "  ORGANISM  Bos \u001b[01;31m\u001b[Ktaurus\u001b[m\u001b[K\t\t\t\tNext Exercise\r\n",
      "  ORGANISM  Bos \u001b[01;31m\u001b[Ktaurus\u001b[m\u001b[K\t\t\t\t===============\r\n",
      "  ORGANISM  Bos \u001b[01;31m\u001b[Ktaurus\u001b[m\u001b[K\r\n",
      "  ORGANISM  Bos \u001b[01;31m\u001b[Ktaurus\u001b[m\u001b[K\t\t\t\tTo continue, grep\r\n",
      "  ORGANISM  Bos \u001b[01;31m\u001b[Ktaurus\u001b[m\u001b[K\t\t\t\t\"regex\" in\r\n",
      "  ORGANISM  Bos \u001b[01;31m\u001b[Ktaurus\u001b[m\u001b[K\t\t\t\tdata/exercise1_grep.txt\r\n",
      "  ORGANISM  Bos \u001b[01;31m\u001b[Ktaurus\u001b[m\u001b[K\r\n"
     ]
    }
   ],
   "source": [
    "# Solution: grep for \"bos taurus\":\n",
    "grep ORGANISM genes/mgat_genes.gb | grep taurus"
   ]
  },
  {
   "cell_type": "markdown",
   "metadata": {
    "slideshow": {
     "slide_type": "slide"
    }
   },
   "source": [
    "## Redirecting the output to a file, using the redirection symbol (>)\n",
    "\n",
    "Another component of the Unix piping system is the redirection symbol, \">\"\n",
    "\n",
    "This is used to save the output of a command to a file. For example:"
   ]
  },
  {
   "cell_type": "code",
   "execution_count": 22,
   "metadata": {
    "slideshow": {
     "slide_type": "fragment"
    }
   },
   "outputs": [],
   "source": [
    "# Note that no output is shown to the terminal. \n",
    "grep ORGANISM genes/mgat_genes.gb | grep taurus > bos_taurus.txt"
   ]
  },
  {
   "cell_type": "markdown",
   "metadata": {
    "slideshow": {
     "slide_type": "fragment"
    }
   },
   "source": [
    "Note how this creates a new file called **bos_taurus.txt**. If we do \"ls\" again, we will see it:"
   ]
  },
  {
   "cell_type": "code",
   "execution_count": 14,
   "metadata": {
    "slideshow": {
     "slide_type": "fragment"
    }
   },
   "outputs": [
    {
     "name": "stdout",
     "output_type": "stream",
     "text": [
      "total 272\n",
      "-rw-r--r--   1 gmd78366  staff    829 Mar 11 08:52 bos_taurus.txt\n",
      "-rw-r--r--@  1 gmd78366  staff   2642 Sep 14 16:31 1_browsing_textfiles.txt\n",
      "-rw-r--r--@  1 gmd78366  staff  89462 Sep 14 16:31 chr8.gff\n",
      "drwxr-xr-x@ 52 gmd78366  staff   1664 Sep 14 16:31 multiplefiles\n",
      "-rw-r--r--@  1 gmd78366  staff  37663 Sep 14 16:31 2_searching_patterns.txt\n",
      "drwxr-xr-x@  9 gmd78366  staff    288 Sep 14 16:31 old_files\n",
      "drwxr-xr-x@  6 gmd78366  staff    192 Sep 14 16:31 genes\n",
      "rm: bos_taurus_lines.txt: No such file or directory\n"
     ]
    },
    {
     "ename": "",
     "evalue": "1",
     "output_type": "error",
     "traceback": []
    }
   ],
   "source": [
    "# The -t option in ls sorts the output by modification date\n",
    "ls -l -t"
   ]
  },
  {
   "cell_type": "markdown",
   "metadata": {
    "slideshow": {
     "slide_type": "fragment"
    }
   },
   "source": [
    "**Note on file extensions**: Unix is agnostic to file extensions (e.g. .txt, .png, .exe). \n",
    "\n",
    "Here we've added the .txt extension to the file, as this is a convention to indicate a text file.\n",
    "\n",
    "However you can run **grep** and any unix command on any file type, and no errors will be shown. However, if you try to run them on binary formats like Word of Excel, you will get back un unintelegible output."
   ]
  },
  {
   "cell_type": "markdown",
   "metadata": {
    "slideshow": {
     "slide_type": "subslide"
    }
   },
   "source": [
    "### Warning on File Redirection and overwriting files\n",
    "\n",
    "Warning - the redirection symbol will overwrite any existing file content, without asking confirmation.\n",
    "\n",
    "The next command uses \"echo\" to print a simple message, which is then redirected to the bos_taurus.txt files created previously."
   ]
  },
  {
   "cell_type": "code",
   "execution_count": 16,
   "metadata": {
    "slideshow": {
     "slide_type": "fragment"
    }
   },
   "outputs": [
    {
     "name": "stdout",
     "output_type": "stream",
     "text": [
      "Simple Text message\n"
     ]
    }
   ],
   "source": [
    "echo \"Simple Text message\""
   ]
  },
  {
   "cell_type": "code",
   "execution_count": 19,
   "metadata": {
    "slideshow": {
     "slide_type": "fragment"
    }
   },
   "outputs": [],
   "source": [
    "echo \"All previous contents are deleted\" > bos_taurus.txt"
   ]
  },
  {
   "cell_type": "code",
   "execution_count": 20,
   "metadata": {
    "slideshow": {
     "slide_type": "fragment"
    }
   },
   "outputs": [
    {
     "name": "stdout",
     "output_type": "stream",
     "text": [
      "All previous contents are deleted\n"
     ]
    }
   ],
   "source": [
    "head bos_taurus.txt"
   ]
  },
  {
   "cell_type": "markdown",
   "metadata": {
    "slideshow": {
     "slide_type": "fragment"
    }
   },
   "source": [
    "There is now way to retrieve the previous contents of the file, except if you used a version control system (e.g. git) to store them."
   ]
  },
  {
   "cell_type": "markdown",
   "metadata": {
    "slideshow": {
     "slide_type": "slide"
    }
   },
   "source": [
    "## Appending contents to a file, using the double redirection symbol (>>)\n",
    "\n",
    "If we want to append content to a file without deleting the previous contents, we can use the double redirection symbol, **>>**.\n",
    "\n",
    "This will store the new output at the end of the file"
   ]
  },
  {
   "cell_type": "markdown",
   "metadata": {
    "slideshow": {
     "slide_type": "slide"
    }
   },
   "source": [
    "## Searching multiple files\n",
    "\n",
    "Grep is useful to search over multiple files in a single command.\n",
    "\n",
    "The folder data/multiplefiles/ contains 50 randomly generated files. You can see their contents with head data/multiplefiles/\\* or with less.\n",
    "\n",
    "One of these files contains the word \"regex\" in it. Are you able to find it?"
   ]
  },
  {
   "cell_type": "code",
   "execution_count": 23,
   "metadata": {
    "run_control": {
     "frozen": false,
     "read_only": false
    },
    "slideshow": {
     "slide_type": "subslide"
    }
   },
   "outputs": [
    {
     "name": "stdout",
     "output_type": "stream",
     "text": [
      "multiplefiles/file32.txt:5gsumFTKbKEJv9dD8W94FhoEQU8qf8RMUc\u001b[01;31m\u001b[Kregex\u001b[m\u001b[KR    \n",
      "multiplefiles/file32.txt:YgDiqkA C1o\u001b[01;31m\u001b[Kregex\u001b[m\u001b[K9giqI66c3sOwfLirOsgPpSuq    \n",
      "multiplefiles/file32.txt:IsXSnp 8U8pKR0LsVuK\u001b[01;31m\u001b[Kregex\u001b[m\u001b[KO5GFegOtV4GW4fNQ    Good! You've found the \n",
      "multiplefiles/file32.txt:l 4px8KhPRmfEJgi5uTuVO1XahG3H1sY\u001b[01;31m\u001b[Kregex\u001b[m\u001b[K4wt    file containing the word \"\u001b[01;31m\u001b[Kregex\u001b[m\u001b[K\"\n",
      "multiplefiles/file32.txt:yz8P5 HC6N5D XRHPncZjTAeM\u001b[01;31m\u001b[Kregex\u001b[m\u001b[KT9bQUoZdsh    \n",
      "multiplefiles/file32.txt:eWUd18s0MVx5YYrEK KCKeF5hvO\u001b[01;31m\u001b[Kregex\u001b[m\u001b[KIiZbIGUX    To continue, \n",
      "multiplefiles/file32.txt:MLXiKZJ8KyHMou9lYsz4ZjFYJSfB 14t\u001b[01;31m\u001b[Kregex\u001b[m\u001b[KtpJ    grep file32 2_searching_patterns.txt\n",
      "multiplefiles/file32.txt:veFQU\u001b[01;31m\u001b[Kregex\u001b[m\u001b[KfnQxwQw6POJRNvvAeYwToX6ptvN39m    \n",
      "multiplefiles/file32.txt:cHoNv\u001b[01;31m\u001b[Kregex\u001b[m\u001b[KiGjHkmptPVTjOzvWVGbrGoHoywV4Vy    \n"
     ]
    }
   ],
   "source": [
    "# solution: you can use the \"*\" character to specify multiple files:\n",
    "grep 'regex' multiplefiles/*"
   ]
  },
  {
   "cell_type": "markdown",
   "metadata": {
    "slideshow": {
     "slide_type": "slide"
    }
   },
   "source": [
    "# Regular Expressions\n",
    "\n",
    "Let's go back to our grep searches.\n",
    "\n",
    "Regular expressions allow to search for more complex patterns. \n",
    "\n",
    "Here are some simple regular expression examples:\n",
    "\n",
    "| regex    | description |\n",
    "| -------- | ----------- |\n",
    "| .        | matches any character |\n",
    "| [A-Za-z] | matches any of the characters within parenthesis|\n",
    "| .\\*      | matches any character, any number of times| "
   ]
  },
  {
   "cell_type": "markdown",
   "metadata": {
    "slideshow": {
     "slide_type": "subslide"
    }
   },
   "source": [
    "## Regular Expression exercise\n",
    "\n",
    "Let's have a look at the file data/genes/sequences.fasta:"
   ]
  },
  {
   "cell_type": "code",
   "execution_count": 15,
   "metadata": {
    "run_control": {
     "frozen": false,
     "read_only": false
    }
   },
   "outputs": [
    {
     "name": "stdout",
     "output_type": "stream",
     "text": [
      ">seq000 sequence description\r\n",
      "CGNTTTNTAATTATATANNTAGCGTGATCC\r\n",
      ">seq001 sequence description\r\n",
      "NNCGNANAGCTNGACCTAGTTGAAATTGTG\r\n",
      ">seq002 sequence description\r\n",
      "CGGTATGCAGCCCNNGCGTNGCNTNAATNA\r\n",
      ">seq003 sequence description\r\n",
      "CGCNTCNTNCTTCACCACGCCAGCTTTANC\r\n",
      ">seq004 sequence description\r\n",
      "CGTNGCGNNCGNGAGCCATTANTAGNNCCT\r\n"
     ]
    }
   ],
   "source": [
    "head genes/sequences.fasta "
   ]
  },
  {
   "cell_type": "markdown",
   "metadata": {},
   "source": [
    "Can you use grep to identify all the sequences containing three As, followed by any two characters, followed by three Ts?"
   ]
  },
  {
   "cell_type": "code",
   "execution_count": 16,
   "metadata": {
    "run_control": {
     "frozen": false,
     "read_only": false
    },
    "slideshow": {
     "slide_type": "subslide"
    }
   },
   "outputs": [
    {
     "name": "stdout",
     "output_type": "stream",
     "text": [
      "TCGACCTGCNNANGGCTNTGT\u001b[01;31m\u001b[KAAAccTTT\u001b[m\u001b[KG\r\n",
      "TNCGTCCGGCCAAA\u001b[01;31m\u001b[KAAAgtTTT\u001b[m\u001b[KNGNGCTTG\r\n",
      "NAAGTTTAAG\u001b[01;31m\u001b[KAAAaaTTT\u001b[m\u001b[KCATGAGCNCGAG\r\n",
      "NCTGCGCNGCGAGCCACAACN\u001b[01;31m\u001b[KAAAgtTTT\u001b[m\u001b[KG\r\n",
      "TAGNGTACTCCTTNTN\u001b[01;31m\u001b[KAAAaaTTT\u001b[m\u001b[KTTCTCG\r\n",
      "ACTNGACGCTTCNCTN\u001b[01;31m\u001b[KAAAccTTT\u001b[m\u001b[KGCNTNT\r\n",
      "GGGN\u001b[01;31m\u001b[KAAAaaTTT\u001b[m\u001b[KCGGCTGNNTGCNCNNTNN\r\n",
      "TNGAACCCNGTNCGGTC\u001b[01;31m\u001b[KAAAccTTT\u001b[m\u001b[KTCNTA\r\n",
      "NGGTACAAAGCNCCCANNNTT\u001b[01;31m\u001b[KAAAgtTTT\u001b[m\u001b[KC\r\n",
      "\u001b[01;31m\u001b[KAAAccTTT\u001b[m\u001b[KNCNGCCNTNCTCANNCGTGNTT\r\n",
      "NTTCACTC\u001b[01;31m\u001b[KAAActTTT\u001b[m\u001b[KNGNGNATTNGGAAT\r\n",
      "GGATG\u001b[01;31m\u001b[KAAAaaTTT\u001b[m\u001b[KNCCAGCCAANNCTTGNA\r\n"
     ]
    }
   ],
   "source": [
    "grep 'AAA..TTT' genes/sequences.fasta"
   ]
  },
  {
   "cell_type": "markdown",
   "metadata": {},
   "source": [
    "Bonus: if we use the -B 1 grep option, we can retrieve the names of these sequences:"
   ]
  },
  {
   "cell_type": "code",
   "execution_count": 17,
   "metadata": {
    "run_control": {
     "frozen": false,
     "read_only": false
    }
   },
   "outputs": [
    {
     "name": "stdout",
     "output_type": "stream",
     "text": [
      ">seq009 sequence description   \r\n",
      "TCGACCTGCNNANGGCTNTGT\u001b[01;31m\u001b[KAAAccTTT\u001b[m\u001b[KG\r\n",
      "\u001b[36m\u001b[K--\u001b[m\u001b[K\r\n",
      ">seq012 sequence description    ________________\r\n",
      "TNCGTCCGGCCAAA\u001b[01;31m\u001b[KAAAgtTTT\u001b[m\u001b[KNGNGCTTG\r\n",
      "\u001b[36m\u001b[K--\u001b[m\u001b[K\r\n",
      ">seq024 sequence description   / Congrats! This \\ \r\n",
      "NAAGTTTAAG\u001b[01;31m\u001b[KAAAaaTTT\u001b[m\u001b[KCATGAGCNCGAG\r\n",
      ">seq025 sequence description   | was the last  |\r\n",
      "NCTGCGCNGCGAGCCACAACN\u001b[01;31m\u001b[KAAAgtTTT\u001b[m\u001b[KG\r\n",
      ">seq026 sequence description   \\ grep exercise / \r\n",
      "TAGNGTACTCCTTNTN\u001b[01;31m\u001b[KAAAaaTTT\u001b[m\u001b[KTTCTCG\r\n",
      "\u001b[36m\u001b[K--\u001b[m\u001b[K\r\n",
      ">seq030 sequence description    ----------------\r\n",
      "ACTNGACGCTTCNCTN\u001b[01;31m\u001b[KAAAccTTT\u001b[m\u001b[KGCNTNT\r\n",
      "\u001b[36m\u001b[K--\u001b[m\u001b[K\r\n",
      ">seq032 sequence description       \\  ^__^\r\n",
      "GGGN\u001b[01;31m\u001b[KAAAaaTTT\u001b[m\u001b[KCGGCTGNNTGCNCNNTNN\r\n",
      ">seq033 sequence description        \\ (oo)\\_______\r\n",
      "TNGAACCCNGTNCGGTC\u001b[01;31m\u001b[KAAAccTTT\u001b[m\u001b[KTCNTA\r\n",
      "\u001b[36m\u001b[K--\u001b[m\u001b[K\r\n",
      ">seq038 sequence description          (__)\\    )\\/\\ \r\n",
      "NGGTACAAAGCNCCCANNNTT\u001b[01;31m\u001b[KAAAgtTTT\u001b[m\u001b[KC\r\n",
      "\u001b[36m\u001b[K--\u001b[m\u001b[K\r\n",
      ">seq043 sequence description           ||----w |\r\n",
      "\u001b[01;31m\u001b[KAAAccTTT\u001b[m\u001b[KNCNGCCNTNCTCANNCGTGNTT\r\n",
      "\u001b[36m\u001b[K--\u001b[m\u001b[K\r\n",
      ">seq046 sequence description           ||    ||\r\n",
      "NTTCACTC\u001b[01;31m\u001b[KAAActTTT\u001b[m\u001b[KNGNGNATTNGGAAT\r\n",
      "\u001b[36m\u001b[K--\u001b[m\u001b[K\r\n",
      ">seq049 sequence description   \r\n",
      "GGATG\u001b[01;31m\u001b[KAAAaaTTT\u001b[m\u001b[KNCCAGCCAANNCTTGNA\r\n"
     ]
    }
   ],
   "source": [
    "grep -B1 'AAA..TTT' genes/sequences.fasta "
   ]
  },
  {
   "cell_type": "code",
   "execution_count": 18,
   "metadata": {
    "run_control": {
     "frozen": false,
     "read_only": false
    },
    "slideshow": {
     "slide_type": "fragment"
    }
   },
   "outputs": [
    {
     "name": "stdout",
     "output_type": "stream",
     "text": [
      "\u001b[01;31m\u001b[K>\u001b[m\u001b[Kseq009 sequence description   \r\n",
      "\u001b[01;31m\u001b[K>\u001b[m\u001b[Kseq012 sequence description    ________________\r\n",
      "\u001b[01;31m\u001b[K>\u001b[m\u001b[Kseq024 sequence description   / Congrats! This \\ \r\n",
      "\u001b[01;31m\u001b[K>\u001b[m\u001b[Kseq025 sequence description   | was the last  |\r\n",
      "\u001b[01;31m\u001b[K>\u001b[m\u001b[Kseq026 sequence description   \\ grep exercise / \r\n",
      "\u001b[01;31m\u001b[K>\u001b[m\u001b[Kseq030 sequence description    ----------------\r\n",
      "\u001b[01;31m\u001b[K>\u001b[m\u001b[Kseq032 sequence description       \\  ^__^\r\n",
      "\u001b[01;31m\u001b[K>\u001b[m\u001b[Kseq033 sequence description        \\ (oo)\\_______\r\n",
      "\u001b[01;31m\u001b[K>\u001b[m\u001b[Kseq038 sequence description          (__)\\    )\\/\\ \r\n",
      "\u001b[01;31m\u001b[K>\u001b[m\u001b[Kseq043 sequence description           ||----w |\r\n",
      "\u001b[01;31m\u001b[K>\u001b[m\u001b[Kseq046 sequence description           ||    ||\r\n",
      "\u001b[01;31m\u001b[K>\u001b[m\u001b[Kseq049 sequence description   \r\n"
     ]
    }
   ],
   "source": [
    "# Bonus: pipe an additional grep '>' to see a cow:\n",
    "grep -B1 'AAA..TTT' genes/sequences.fasta  | grep '>'"
   ]
  },
  {
   "cell_type": "markdown",
   "metadata": {
    "slideshow": {
     "slide_type": "subslide"
    }
   },
   "source": [
    "# Applying the Unix Philosophy to your programming\n",
    "\n",
    "In the following days, when you will learn the basics of Python and R programming, you will be faced with the dilemma of how to organize your scripts.\n",
    "\n",
    "You can use the Unix Philosophy as a guideline to have more versatile files and scripts."
   ]
  },
  {
   "cell_type": "markdown",
   "metadata": {
    "slideshow": {
     "slide_type": "fragment"
    }
   },
   "source": [
    "## Example of Unix Approach\n",
    "\n",
    "Let's immagine we want to plot the CG content of a genome:\n",
    "\n",
    "- **Approach 1 (non-Unix)**: write a single script that downloads the genome, calculates the GC content, and draws a plot\n",
    "- **Approach 2 (Unix)**: write three separate scripts or functions, then pipe them together using the Unix Pipe or with a wrapper script.\n",
    "\n",
    "The Unix Approach requires a bit of extra work, but it is more versatile in case you want to reuse the same scripts."
   ]
  },
  {
   "cell_type": "markdown",
   "metadata": {
    "slideshow": {
     "slide_type": "slide"
    }
   },
   "source": [
    "# Time for a break!"
   ]
  },
  {
   "cell_type": "code",
   "execution_count": null,
   "metadata": {
    "collapsed": true,
    "run_control": {
     "frozen": false,
     "read_only": false
    }
   },
   "outputs": [],
   "source": []
  }
 ],
 "metadata": {
  "celltoolbar": "Slideshow",
  "hide_input": false,
  "kernelspec": {
   "display_name": "Bash",
   "language": "bash",
   "name": "bash"
  },
  "language_info": {
   "codemirror_mode": "shell",
   "file_extension": ".sh",
   "mimetype": "text/x-sh",
   "name": "bash"
  },
  "nav_menu": {},
  "toc": {
   "nav_menu": {},
   "number_sections": true,
   "sideBar": true,
   "skip_h1_title": false,
   "title_cell": "Table of Contents",
   "title_sidebar": "Contents",
   "toc_cell": true,
   "toc_position": {},
   "toc_section_display": "block",
   "toc_window_display": true
  }
 },
 "nbformat": 4,
 "nbformat_minor": 1
}
